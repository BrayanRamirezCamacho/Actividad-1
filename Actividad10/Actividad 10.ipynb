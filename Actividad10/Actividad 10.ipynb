{
 "cells": [
  {
   "cell_type": "code",
   "execution_count": 1,
   "metadata": {},
   "outputs": [],
   "source": [
    "#Importamos las bibliotecas a utilizar \n",
    "import numpy as np\n",
    "import matplotlib.pyplot as plt\n",
    "from math import cos\n",
    "from scipy.integrate import ode"
   ]
  },
  {
   "cell_type": "code",
   "execution_count": 2,
   "metadata": {},
   "outputs": [],
   "source": [
    "#Se define la ecuación diferencial a resolver\n",
    "def f(t, z, p):\n",
    "    #----------------------------------------------\n",
    "    # Lado derecho de las ecuaciones diferenciales\n",
    "    #  dx/dt = y\n",
    "    #  dy/dt = - δ*y - α*dx - β*x**3 + γ*cos(ω*t)\n",
    "    #----------------------------------------------\n",
    "        \n",
    "    δ, α, β, γ, ω = p                           #Parámetros\n",
    "    x, y = z                                    #Variables de integración\n",
    "    f = [y, - δ*y - α*x - β*x**3 + γ*cos(ω*t)]  #Función a integrar\n",
    "    \n",
    "    return f"
   ]
  },
  {
   "cell_type": "code",
   "execution_count": 3,
   "metadata": {},
   "outputs": [
    {
     "data": {
      "text/plain": [
       "<scipy.integrate._ode.ode at 0x2cc78e02a20>"
      ]
     },
     "execution_count": 3,
     "metadata": {},
     "output_type": "execute_result"
    }
   ],
   "source": [
    "#Se crea una instancia para resolver la ecuación diferencial a través del método 'dopri5'\n",
    "solver = ode(f)\n",
    "solver.set_integrator('dopri5')"
   ]
  },
  {
   "cell_type": "code",
   "execution_count": 10,
   "metadata": {},
   "outputs": [],
   "source": [
    "#Número de puntos para evaluar la ecuación diferencial\n",
    "N = 100\n",
    "\n",
    "#Parámetros de la ecuación\n",
    "gamma = 1.0\n",
    "alpha = 1.0\n",
    "beta = 0.01\n",
    "delta = 0.1\n",
    "omega = np.linspace(0, 2.5, N)\n",
    "\n"
   ]
  },
  {
   "cell_type": "code",
   "execution_count": 11,
   "metadata": {},
   "outputs": [],
   "source": [
    "#Lista para la gráfica de 'ida'\n",
    "graf1 = []\n",
    "\n",
    "#Lista para la gráfica de 'vuelta'\n",
    "graf2 = [] \n",
    "\n",
    "w1 = []\n",
    "w2 = []"
   ]
  },
  {
   "cell_type": "code",
   "execution_count": 12,
   "metadata": {},
   "outputs": [],
   "source": [
    "#Condiciones iniciales        \n",
    "t0 = 0.0\n",
    "#z0 = [ x(0), v(0) ]\n",
    "z0 = [1.0, 0.0] \n",
    "z = 0\n",
    "\n",
    "for i in range( 0, N ):\n",
    "     \n",
    "    ω = omega[i]\n",
    "    val = delta, alpha, beta, gamma, ω                      \n",
    "    solver.set_f_params(val)\n",
    "    \n",
    "    # Se fija el valor inical z(0) = z0\n",
    "    solver.set_initial_value(z0, t0)\n",
    "    \n",
    "    # Se crea una lista de valores de tiempo para evaluar la ecuación\n",
    "    # Se crea una lista para los valores obtenidos de la solución\n",
    "    t1 = 20\n",
    "    m = 400\n",
    "    t = np.linspace(t0, t1, m)\n",
    "    sol = np.empty((m, 2))\n",
    "    sol[0] = z0\n",
    "    \n",
    "    #Se llama repetidamente al integrador para que avance en la solución un tiempo 'k'\n",
    "    k = 1\n",
    "    \n",
    "    while solver.successful() and solver.t < t1:\n",
    "        solver.integrate(t[k])\n",
    "        sol[k] = solver.y\n",
    "        k += 1\n",
    "        \n",
    "    x1 = sol[:,0]\n",
    "    y1 = sol[:,1]\n",
    "                \n",
    "    #Actualización de las condiciones iniciales\n",
    "    t0 = 0.0\n",
    "    z0 = [max(x1),0]\n",
    "    w1.append(ω)\n",
    "    graf1.append(z0[0])\n",
    "     \n",
    "\n",
    "    \n",
    "    \n",
    "t0 = 0.0\n",
    "z0 = [1.0,0.0]\n",
    "\n",
    "for j in range( 0, N ):\n",
    "    \n",
    "    if omega[-j] == 0.0 :\n",
    "        ω = 2.5\n",
    "        val = delta, alpha, beta, gamma, ω                      \n",
    "        solver.set_f_params(val)\n",
    "    else:\n",
    "        ω = omega[-j]\n",
    "        val = delta, alpha, beta, gamma, ω                      \n",
    "        solver.set_f_params(val)\n",
    "    \n",
    "    # Para la gráfica de 'vuelta', se toman como condiciones iniciales las últimas de la 'ida'\n",
    "    solver.set_initial_value(z0, t0)\n",
    "    \n",
    "    # Se crea una lista de valores de tiempo para evaluar la ecuación\n",
    "    # Se crea una lista para los valores obtenidos de la solución\n",
    "    t1 = 20\n",
    "    m = 400\n",
    "    t = np.linspace(t0, t1, m)\n",
    "    sol = np.empty((m, 2))\n",
    "    sol[0] = z0\n",
    "    \n",
    "    #Se llama repetidamente al integrador para que avance en la solución un tiempo 'k'\n",
    "    k = 1\n",
    "    \n",
    "    while solver.successful() and solver.t < t1:\n",
    "        solver.integrate(t[k])\n",
    "        sol[k] = solver.y\n",
    "        k += 1\n",
    "        \n",
    "    x2 = sol[:,0]\n",
    "    y2 = sol[:,1]\n",
    "    \n",
    "    #Actualización de las condiciones iniciales\n",
    "    t0 = 0.0\n",
    "    z0 = [max(x2),0]\n",
    "    w2.append(ω)\n",
    "    graf2.append(z0[0])"
   ]
  },
  {
   "cell_type": "code",
   "execution_count": 16,
   "metadata": {},
   "outputs": [
    {
     "data": {
      "image/png": "[encoded data removed]",
      "text/plain": [
       "<Figure size 432x288 with 1 Axes>"
      ]
     },
     "metadata": {
      "needs_background": "light"
     },
     "output_type": "display_data"
    },
    {
     "data": {
      "text/plain": [
       "<Figure size 432x288 with 0 Axes>"
      ]
     },
     "metadata": {},
     "output_type": "display_data"
    }
   ],
   "source": [
    "# Gráfica de la amplitud \n",
    "#w1=sort(w1)\n",
    "plt.plot( w1, graf1, label='ida', color='c' )\n",
    "plt.plot( w2, graf2, label='vuelta', color='m' )\n",
    "plt.xlabel('Frecuencia de forzamiento ω/$\\sqrt{α}$')\n",
    "plt.ylabel('Amplitud de oscilación z/γ')\n",
    "plt.grid(False)\n",
    "plt.legend()\n",
    "plt.show()\n",
    "plt.savefig(\"duffing.png\")\n",
    "   "
   ]
  }
 ],
 "metadata": {
  "kernelspec": {
   "display_name": "Python 3",
   "language": "python",
   "name": "python3"
  },
  "language_info": {
   "codemirror_mode": {
    "name": "ipython",
    "version": 3
   },
   "file_extension": ".py",
   "mimetype": "text/x-python",
   "name": "python",
   "nbconvert_exporter": "python",
   "pygments_lexer": "ipython3",
   "version": "3.7.1"
  }
 },
 "nbformat": 4,
 "nbformat_minor": 2
}
