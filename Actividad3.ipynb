{
 "cells": [
  {
   "cell_type": "code",
   "execution_count": 1,
   "metadata": {},
   "outputs": [],
   "source": [
    "import pandas as pd\n",
    "import numpy as np"
   ]
  },
  {
   "cell_type": "code",
   "execution_count": 2,
   "metadata": {},
   "outputs": [],
   "source": [
    "import matplotlib.pyplot as plt"
   ]
  },
  {
   "cell_type": "code",
   "execution_count": 3,
   "metadata": {},
   "outputs": [],
   "source": [
    "#Leer el archivo de datos\n",
    "df0 = pd.read_csv(\"unison.txt\", sep=\"\\s+\", skiprows=0, skipfooter=1, engine='python')\n",
    "\n",
    "#Reemplazar los Nulos por NA\n",
    "df0 = df0.replace('Nulo','NA')"
   ]
  },
  {
   "cell_type": "code",
   "execution_count": 4,
   "metadata": {},
   "outputs": [
    {
     "data": {
      "text/html": [
       "<div>\n",
       "<style scoped>\n",
       "    .dataframe tbody tr th:only-of-type {\n",
       "        vertical-align: middle;\n",
       "    }\n",
       "\n",
       "    .dataframe tbody tr th {\n",
       "        vertical-align: top;\n",
       "    }\n",
       "\n",
       "    .dataframe thead th {\n",
       "        text-align: right;\n",
       "    }\n",
       "</style>\n",
       "<table border=\"1\" class=\"dataframe\">\n",
       "  <thead>\n",
       "    <tr style=\"text-align: right;\">\n",
       "      <th></th>\n",
       "      <th>FECHA</th>\n",
       "      <th>PRECIP</th>\n",
       "      <th>EVAP</th>\n",
       "      <th>TMAX</th>\n",
       "      <th>TMIN</th>\n",
       "    </tr>\n",
       "  </thead>\n",
       "  <tbody>\n",
       "    <tr>\n",
       "      <th>0</th>\n",
       "      <td>14/10/1981</td>\n",
       "      <td>0</td>\n",
       "      <td>NA</td>\n",
       "      <td>28</td>\n",
       "      <td>NA</td>\n",
       "    </tr>\n",
       "    <tr>\n",
       "      <th>1</th>\n",
       "      <td>15/10/1981</td>\n",
       "      <td>0</td>\n",
       "      <td>7.3</td>\n",
       "      <td>26</td>\n",
       "      <td>14</td>\n",
       "    </tr>\n",
       "    <tr>\n",
       "      <th>2</th>\n",
       "      <td>16/10/1981</td>\n",
       "      <td>0</td>\n",
       "      <td>7.6</td>\n",
       "      <td>28</td>\n",
       "      <td>12.5</td>\n",
       "    </tr>\n",
       "    <tr>\n",
       "      <th>3</th>\n",
       "      <td>17/10/1981</td>\n",
       "      <td>0</td>\n",
       "      <td>8.1</td>\n",
       "      <td>28</td>\n",
       "      <td>10</td>\n",
       "    </tr>\n",
       "    <tr>\n",
       "      <th>4</th>\n",
       "      <td>18/10/1981</td>\n",
       "      <td>0</td>\n",
       "      <td>1.2</td>\n",
       "      <td>30.5</td>\n",
       "      <td>9.5</td>\n",
       "    </tr>\n",
       "  </tbody>\n",
       "</table>\n",
       "</div>"
      ],
      "text/plain": [
       "        FECHA PRECIP EVAP  TMAX  TMIN\n",
       "0  14/10/1981      0   NA    28    NA\n",
       "1  15/10/1981      0  7.3    26    14\n",
       "2  16/10/1981      0  7.6    28  12.5\n",
       "3  17/10/1981      0  8.1    28    10\n",
       "4  18/10/1981      0  1.2  30.5   9.5"
      ]
     },
     "execution_count": 4,
     "metadata": {},
     "output_type": "execute_result"
    }
   ],
   "source": [
    "df0.head()"
   ]
  },
  {
   "cell_type": "code",
   "execution_count": 5,
   "metadata": {},
   "outputs": [
    {
     "data": {
      "text/html": [
       "<div>\n",
       "<style scoped>\n",
       "    .dataframe tbody tr th:only-of-type {\n",
       "        vertical-align: middle;\n",
       "    }\n",
       "\n",
       "    .dataframe tbody tr th {\n",
       "        vertical-align: top;\n",
       "    }\n",
       "\n",
       "    .dataframe thead th {\n",
       "        text-align: right;\n",
       "    }\n",
       "</style>\n",
       "<table border=\"1\" class=\"dataframe\">\n",
       "  <thead>\n",
       "    <tr style=\"text-align: right;\">\n",
       "      <th></th>\n",
       "      <th>FECHA</th>\n",
       "      <th>PRECIP</th>\n",
       "      <th>EVAP</th>\n",
       "      <th>TMAX</th>\n",
       "      <th>TMIN</th>\n",
       "    </tr>\n",
       "  </thead>\n",
       "  <tbody>\n",
       "    <tr>\n",
       "      <th>5439</th>\n",
       "      <td>26/09/1998</td>\n",
       "      <td>0</td>\n",
       "      <td>NA</td>\n",
       "      <td>35.5</td>\n",
       "      <td>NA</td>\n",
       "    </tr>\n",
       "    <tr>\n",
       "      <th>5440</th>\n",
       "      <td>27/09/1998</td>\n",
       "      <td>0</td>\n",
       "      <td>NA</td>\n",
       "      <td>37.5</td>\n",
       "      <td>16.5</td>\n",
       "    </tr>\n",
       "    <tr>\n",
       "      <th>5441</th>\n",
       "      <td>28/09/1998</td>\n",
       "      <td>0</td>\n",
       "      <td>NA</td>\n",
       "      <td>38.5</td>\n",
       "      <td>20</td>\n",
       "    </tr>\n",
       "    <tr>\n",
       "      <th>5442</th>\n",
       "      <td>29/09/1998</td>\n",
       "      <td>0</td>\n",
       "      <td>NA</td>\n",
       "      <td>38.5</td>\n",
       "      <td>20</td>\n",
       "    </tr>\n",
       "    <tr>\n",
       "      <th>5443</th>\n",
       "      <td>30/09/1998</td>\n",
       "      <td>0</td>\n",
       "      <td>NA</td>\n",
       "      <td>37.5</td>\n",
       "      <td>20</td>\n",
       "    </tr>\n",
       "  </tbody>\n",
       "</table>\n",
       "</div>"
      ],
      "text/plain": [
       "           FECHA PRECIP EVAP  TMAX  TMIN\n",
       "5439  26/09/1998      0   NA  35.5    NA\n",
       "5440  27/09/1998      0   NA  37.5  16.5\n",
       "5441  28/09/1998      0   NA  38.5    20\n",
       "5442  29/09/1998      0   NA  38.5    20\n",
       "5443  30/09/1998      0   NA  37.5    20"
      ]
     },
     "execution_count": 5,
     "metadata": {},
     "output_type": "execute_result"
    }
   ],
   "source": [
    "df0.tail()"
   ]
  },
  {
   "cell_type": "code",
   "execution_count": 6,
   "metadata": {},
   "outputs": [
    {
     "data": {
      "text/plain": [
       "FECHA     object\n",
       "PRECIP    object\n",
       "EVAP      object\n",
       "TMAX      object\n",
       "TMIN      object\n",
       "dtype: object"
      ]
     },
     "execution_count": 6,
     "metadata": {},
     "output_type": "execute_result"
    }
   ],
   "source": [
    "df0.dtypes"
   ]
  },
  {
   "cell_type": "code",
   "execution_count": 7,
   "metadata": {},
   "outputs": [],
   "source": [
    "#Convertir el tipo de variable de la Fecha\n",
    "df0['FECHAN'] =  pd.to_datetime(df0['FECHA'], format='%d/%m/%Y')\n",
    "\n",
    "#Convertir las variables\n",
    "df0[['PRECIP','EVAP','TMAX','TMIN']] = df0[['PRECIP','EVAP','TMAX','TMIN']] \\\n",
    ".apply(pd.to_numeric, errors='coerce')\n",
    "\n",
    "df0 = df0.drop('FECHA', 1)"
   ]
  },
  {
   "cell_type": "code",
   "execution_count": 8,
   "metadata": {},
   "outputs": [
    {
     "ename": "TypeError",
     "evalue": "'Series' object is not callable",
     "output_type": "error",
     "traceback": [
      "\u001b[1;31m---------------------------------------------------------------------------\u001b[0m",
      "\u001b[1;31mTypeError\u001b[0m                                 Traceback (most recent call last)",
      "\u001b[1;32m<ipython-input-8-0afc1c64f7ae>\u001b[0m in \u001b[0;36m<module>\u001b[1;34m\u001b[0m\n\u001b[1;32m----> 1\u001b[1;33m \u001b[0mdf0\u001b[0m\u001b[1;33m.\u001b[0m\u001b[0mdtypes\u001b[0m\u001b[1;33m(\u001b[0m\u001b[1;33m)\u001b[0m\u001b[1;33m\u001b[0m\u001b[1;33m\u001b[0m\u001b[0m\n\u001b[0m",
      "\u001b[1;31mTypeError\u001b[0m: 'Series' object is not callable"
     ]
    }
   ],
   "source": [
    "df0.dtypes()"
   ]
  },
  {
   "cell_type": "code",
   "execution_count": 9,
   "metadata": {},
   "outputs": [
    {
     "ename": "TypeError",
     "evalue": "'Series' object is not callable",
     "output_type": "error",
     "traceback": [
      "\u001b[1;31m---------------------------------------------------------------------------\u001b[0m",
      "\u001b[1;31mTypeError\u001b[0m                                 Traceback (most recent call last)",
      "\u001b[1;32m<ipython-input-9-a28bf05709e5>\u001b[0m in \u001b[0;36m<module>\u001b[1;34m\u001b[0m\n\u001b[1;32m----> 1\u001b[1;33m \u001b[0mdf0\u001b[0m\u001b[1;33m.\u001b[0m\u001b[0mdtypes\u001b[0m\u001b[1;33m(\u001b[0m\u001b[1;34m'FECHA'\u001b[0m\u001b[1;33m)\u001b[0m\u001b[1;33m\u001b[0m\u001b[1;33m\u001b[0m\u001b[0m\n\u001b[0m",
      "\u001b[1;31mTypeError\u001b[0m: 'Series' object is not callable"
     ]
    }
   ],
   "source": [
    "df0.dtypes('FECHA')"
   ]
  },
  {
   "cell_type": "code",
   "execution_count": 10,
   "metadata": {},
   "outputs": [
    {
     "data": {
      "text/html": [
       "<div>\n",
       "<style scoped>\n",
       "    .dataframe tbody tr th:only-of-type {\n",
       "        vertical-align: middle;\n",
       "    }\n",
       "\n",
       "    .dataframe tbody tr th {\n",
       "        vertical-align: top;\n",
       "    }\n",
       "\n",
       "    .dataframe thead th {\n",
       "        text-align: right;\n",
       "    }\n",
       "</style>\n",
       "<table border=\"1\" class=\"dataframe\">\n",
       "  <thead>\n",
       "    <tr style=\"text-align: right;\">\n",
       "      <th></th>\n",
       "      <th>PRECIP</th>\n",
       "      <th>EVAP</th>\n",
       "      <th>TMAX</th>\n",
       "      <th>TMIN</th>\n",
       "    </tr>\n",
       "  </thead>\n",
       "  <tbody>\n",
       "    <tr>\n",
       "      <th>count</th>\n",
       "      <td>5182.000000</td>\n",
       "      <td>3104.000000</td>\n",
       "      <td>4974.000000</td>\n",
       "      <td>4959.000000</td>\n",
       "    </tr>\n",
       "    <tr>\n",
       "      <th>mean</th>\n",
       "      <td>0.972096</td>\n",
       "      <td>6.432571</td>\n",
       "      <td>32.110032</td>\n",
       "      <td>13.363783</td>\n",
       "    </tr>\n",
       "    <tr>\n",
       "      <th>std</th>\n",
       "      <td>5.666403</td>\n",
       "      <td>3.219988</td>\n",
       "      <td>6.949653</td>\n",
       "      <td>7.035267</td>\n",
       "    </tr>\n",
       "    <tr>\n",
       "      <th>min</th>\n",
       "      <td>0.000000</td>\n",
       "      <td>0.100000</td>\n",
       "      <td>0.000000</td>\n",
       "      <td>-3.500000</td>\n",
       "    </tr>\n",
       "    <tr>\n",
       "      <th>25%</th>\n",
       "      <td>0.000000</td>\n",
       "      <td>3.800000</td>\n",
       "      <td>26.625000</td>\n",
       "      <td>7.500000</td>\n",
       "    </tr>\n",
       "    <tr>\n",
       "      <th>50%</th>\n",
       "      <td>0.000000</td>\n",
       "      <td>6.100000</td>\n",
       "      <td>33.000000</td>\n",
       "      <td>12.000000</td>\n",
       "    </tr>\n",
       "    <tr>\n",
       "      <th>75%</th>\n",
       "      <td>0.000000</td>\n",
       "      <td>8.800000</td>\n",
       "      <td>37.500000</td>\n",
       "      <td>19.500000</td>\n",
       "    </tr>\n",
       "    <tr>\n",
       "      <th>max</th>\n",
       "      <td>119.300000</td>\n",
       "      <td>16.500000</td>\n",
       "      <td>49.000000</td>\n",
       "      <td>29.000000</td>\n",
       "    </tr>\n",
       "  </tbody>\n",
       "</table>\n",
       "</div>"
      ],
      "text/plain": [
       "            PRECIP         EVAP         TMAX         TMIN\n",
       "count  5182.000000  3104.000000  4974.000000  4959.000000\n",
       "mean      0.972096     6.432571    32.110032    13.363783\n",
       "std       5.666403     3.219988     6.949653     7.035267\n",
       "min       0.000000     0.100000     0.000000    -3.500000\n",
       "25%       0.000000     3.800000    26.625000     7.500000\n",
       "50%       0.000000     6.100000    33.000000    12.000000\n",
       "75%       0.000000     8.800000    37.500000    19.500000\n",
       "max     119.300000    16.500000    49.000000    29.000000"
      ]
     },
     "execution_count": 10,
     "metadata": {},
     "output_type": "execute_result"
    }
   ],
   "source": [
    "df0.describe()"
   ]
  },
  {
   "cell_type": "code",
   "execution_count": 11,
   "metadata": {},
   "outputs": [],
   "source": [
    "# Generar columnas de AÑO y MES \n",
    "df0['AÑO'] = df0['FECHAN'].dt.year\n",
    "df0['MES'] = df0['FECHAN'].dt.month"
   ]
  },
  {
   "cell_type": "code",
   "execution_count": 12,
   "metadata": {},
   "outputs": [
    {
     "data": {
      "text/html": [
       "<div>\n",
       "<style scoped>\n",
       "    .dataframe tbody tr th:only-of-type {\n",
       "        vertical-align: middle;\n",
       "    }\n",
       "\n",
       "    .dataframe tbody tr th {\n",
       "        vertical-align: top;\n",
       "    }\n",
       "\n",
       "    .dataframe thead th {\n",
       "        text-align: right;\n",
       "    }\n",
       "</style>\n",
       "<table border=\"1\" class=\"dataframe\">\n",
       "  <thead>\n",
       "    <tr style=\"text-align: right;\">\n",
       "      <th></th>\n",
       "      <th>PRECIP</th>\n",
       "      <th>EVAP</th>\n",
       "      <th>TMAX</th>\n",
       "      <th>TMIN</th>\n",
       "      <th>FECHAN</th>\n",
       "      <th>AÑO</th>\n",
       "      <th>MES</th>\n",
       "    </tr>\n",
       "  </thead>\n",
       "  <tbody>\n",
       "    <tr>\n",
       "      <th>0</th>\n",
       "      <td>0.0</td>\n",
       "      <td>NaN</td>\n",
       "      <td>28.0</td>\n",
       "      <td>NaN</td>\n",
       "      <td>1981-10-14</td>\n",
       "      <td>1981</td>\n",
       "      <td>10</td>\n",
       "    </tr>\n",
       "    <tr>\n",
       "      <th>1</th>\n",
       "      <td>0.0</td>\n",
       "      <td>7.3</td>\n",
       "      <td>26.0</td>\n",
       "      <td>14.0</td>\n",
       "      <td>1981-10-15</td>\n",
       "      <td>1981</td>\n",
       "      <td>10</td>\n",
       "    </tr>\n",
       "    <tr>\n",
       "      <th>2</th>\n",
       "      <td>0.0</td>\n",
       "      <td>7.6</td>\n",
       "      <td>28.0</td>\n",
       "      <td>12.5</td>\n",
       "      <td>1981-10-16</td>\n",
       "      <td>1981</td>\n",
       "      <td>10</td>\n",
       "    </tr>\n",
       "    <tr>\n",
       "      <th>3</th>\n",
       "      <td>0.0</td>\n",
       "      <td>8.1</td>\n",
       "      <td>28.0</td>\n",
       "      <td>10.0</td>\n",
       "      <td>1981-10-17</td>\n",
       "      <td>1981</td>\n",
       "      <td>10</td>\n",
       "    </tr>\n",
       "    <tr>\n",
       "      <th>4</th>\n",
       "      <td>0.0</td>\n",
       "      <td>1.2</td>\n",
       "      <td>30.5</td>\n",
       "      <td>9.5</td>\n",
       "      <td>1981-10-18</td>\n",
       "      <td>1981</td>\n",
       "      <td>10</td>\n",
       "    </tr>\n",
       "  </tbody>\n",
       "</table>\n",
       "</div>"
      ],
      "text/plain": [
       "   PRECIP  EVAP  TMAX  TMIN     FECHAN   AÑO  MES\n",
       "0     0.0   NaN  28.0   NaN 1981-10-14  1981   10\n",
       "1     0.0   7.3  26.0  14.0 1981-10-15  1981   10\n",
       "2     0.0   7.6  28.0  12.5 1981-10-16  1981   10\n",
       "3     0.0   8.1  28.0  10.0 1981-10-17  1981   10\n",
       "4     0.0   1.2  30.5   9.5 1981-10-18  1981   10"
      ]
     },
     "execution_count": 12,
     "metadata": {},
     "output_type": "execute_result"
    }
   ],
   "source": [
    "df0.head()"
   ]
  },
  {
   "cell_type": "code",
   "execution_count": 13,
   "metadata": {},
   "outputs": [
    {
     "data": {
      "text/html": [
       "<div>\n",
       "<style scoped>\n",
       "    .dataframe tbody tr th:only-of-type {\n",
       "        vertical-align: middle;\n",
       "    }\n",
       "\n",
       "    .dataframe tbody tr th {\n",
       "        vertical-align: top;\n",
       "    }\n",
       "\n",
       "    .dataframe thead th {\n",
       "        text-align: right;\n",
       "    }\n",
       "</style>\n",
       "<table border=\"1\" class=\"dataframe\">\n",
       "  <thead>\n",
       "    <tr style=\"text-align: right;\">\n",
       "      <th></th>\n",
       "      <th>PRECIP</th>\n",
       "      <th>EVAP</th>\n",
       "      <th>TMAX</th>\n",
       "      <th>TMIN</th>\n",
       "      <th>FECHAN</th>\n",
       "      <th>AÑO</th>\n",
       "      <th>MES</th>\n",
       "    </tr>\n",
       "  </thead>\n",
       "  <tbody>\n",
       "    <tr>\n",
       "      <th>5439</th>\n",
       "      <td>0.0</td>\n",
       "      <td>NaN</td>\n",
       "      <td>35.5</td>\n",
       "      <td>NaN</td>\n",
       "      <td>1998-09-26</td>\n",
       "      <td>1998</td>\n",
       "      <td>9</td>\n",
       "    </tr>\n",
       "    <tr>\n",
       "      <th>5440</th>\n",
       "      <td>0.0</td>\n",
       "      <td>NaN</td>\n",
       "      <td>37.5</td>\n",
       "      <td>16.5</td>\n",
       "      <td>1998-09-27</td>\n",
       "      <td>1998</td>\n",
       "      <td>9</td>\n",
       "    </tr>\n",
       "    <tr>\n",
       "      <th>5441</th>\n",
       "      <td>0.0</td>\n",
       "      <td>NaN</td>\n",
       "      <td>38.5</td>\n",
       "      <td>20.0</td>\n",
       "      <td>1998-09-28</td>\n",
       "      <td>1998</td>\n",
       "      <td>9</td>\n",
       "    </tr>\n",
       "    <tr>\n",
       "      <th>5442</th>\n",
       "      <td>0.0</td>\n",
       "      <td>NaN</td>\n",
       "      <td>38.5</td>\n",
       "      <td>20.0</td>\n",
       "      <td>1998-09-29</td>\n",
       "      <td>1998</td>\n",
       "      <td>9</td>\n",
       "    </tr>\n",
       "    <tr>\n",
       "      <th>5443</th>\n",
       "      <td>0.0</td>\n",
       "      <td>NaN</td>\n",
       "      <td>37.5</td>\n",
       "      <td>20.0</td>\n",
       "      <td>1998-09-30</td>\n",
       "      <td>1998</td>\n",
       "      <td>9</td>\n",
       "    </tr>\n",
       "  </tbody>\n",
       "</table>\n",
       "</div>"
      ],
      "text/plain": [
       "      PRECIP  EVAP  TMAX  TMIN     FECHAN   AÑO  MES\n",
       "5439     0.0   NaN  35.5   NaN 1998-09-26  1998    9\n",
       "5440     0.0   NaN  37.5  16.5 1998-09-27  1998    9\n",
       "5441     0.0   NaN  38.5  20.0 1998-09-28  1998    9\n",
       "5442     0.0   NaN  38.5  20.0 1998-09-29  1998    9\n",
       "5443     0.0   NaN  37.5  20.0 1998-09-30  1998    9"
      ]
     },
     "execution_count": 13,
     "metadata": {},
     "output_type": "execute_result"
    }
   ],
   "source": [
    "df0.tail()"
   ]
  },
  {
   "cell_type": "code",
   "execution_count": 14,
   "metadata": {},
   "outputs": [
    {
     "name": "stdout",
     "output_type": "stream",
     "text": [
      "18 años de datos\n"
     ]
    }
   ],
   "source": [
    "# Número de años distintos df0['Año'].unique(),\n",
    "NAÑOS = len(df0['AÑO'].unique())\n",
    "print(NAÑOS, \"años de datos\")"
   ]
  },
  {
   "cell_type": "code",
   "execution_count": 15,
   "metadata": {},
   "outputs": [
    {
     "name": "stdout",
     "output_type": "stream",
     "text": [
      "Enero: 15.438888888888888 mm\n",
      "Febrero: 18.522222222222222 mm\n",
      "Marzo: 4.977777777777778 mm\n",
      "Abril: 2.4333333333333336 mm\n",
      "Mayo: 3.75 mm\n",
      "Junio: 1.877777777777778 mm\n",
      "Julio: 51.84444444444444 mm\n",
      "Agosto: 78.31666666666666 mm\n",
      "Septiembre: 42.911111111111104 mm\n",
      "Octubre: 6.911111111111111 mm\n",
      "Noviembre: 18.038888888888888 mm\n",
      "Diciembre: 34.833333333333336 mm\n"
     ]
    }
   ],
   "source": [
    "#Precipitación promedio de un mes\n",
    "PrecipEne = df0[(df0['MES'] == 1)]['PRECIP'].sum()/NAÑOS\n",
    "PrecipFeb = df0[(df0['MES'] == 2)]['PRECIP'].sum()/NAÑOS\n",
    "PrecipMar = df0[(df0['MES'] == 3)]['PRECIP'].sum()/NAÑOS\n",
    "PrecipAbr = df0[(df0['MES'] == 4)]['PRECIP'].sum()/NAÑOS\n",
    "PrecipMay = df0[(df0['MES'] == 5)]['PRECIP'].sum()/NAÑOS\n",
    "PrecipJun = df0[(df0['MES'] == 6)]['PRECIP'].sum()/NAÑOS\n",
    "PrecipJul = df0[(df0['MES'] == 7)]['PRECIP'].sum()/NAÑOS\n",
    "PrecipAgo = df0[(df0['MES'] == 8)]['PRECIP'].sum()/NAÑOS\n",
    "PrecipSep = df0[(df0['MES'] == 9)]['PRECIP'].sum()/NAÑOS\n",
    "PrecipOct = df0[(df0['MES'] == 10)]['PRECIP'].sum()/NAÑOS\n",
    "PrecipNov = df0[(df0['MES'] == 11)]['PRECIP'].sum()/NAÑOS\n",
    "PrecipDic = df0[(df0['MES'] == 12)]['PRECIP'].sum()/NAÑOS\n",
    "print(\"Enero:\",PrecipEne, \"mm\")\n",
    "print(\"Febrero:\",PrecipFeb, \"mm\")\n",
    "print(\"Marzo:\",PrecipMar, \"mm\")\n",
    "print(\"Abril:\",PrecipAbr, \"mm\")\n",
    "print(\"Mayo:\",PrecipMay, \"mm\")\n",
    "print(\"Junio:\",PrecipJun, \"mm\")\n",
    "print(\"Julio:\",PrecipJul, \"mm\")\n",
    "print(\"Agosto:\",PrecipAgo, \"mm\")\n",
    "print(\"Septiembre:\",PrecipSep, \"mm\")\n",
    "print(\"Octubre:\",PrecipOct, \"mm\")\n",
    "print(\"Noviembre:\",PrecipNov, \"mm\")\n",
    "print(\"Diciembre:\",PrecipDic, \"mm\")"
   ]
  },
  {
   "cell_type": "code",
   "execution_count": 16,
   "metadata": {},
   "outputs": [
    {
     "name": "stdout",
     "output_type": "stream",
     "text": [
      "Mes 1 : 15.438888888888888 mm\n",
      "Mes 2 : 33.96111111111111 mm\n",
      "Mes 3 : 38.93888888888888 mm\n",
      "Mes 4 : 41.37222222222222 mm\n",
      "Mes 5 : 45.12222222222222 mm\n",
      "Mes 6 : 47.0 mm\n",
      "Mes 7 : 98.84444444444443 mm\n",
      "Mes 8 : 177.1611111111111 mm\n",
      "Mes 9 : 220.0722222222222 mm\n",
      "Mes 10 : 226.9833333333333 mm\n",
      "Mes 11 : 245.02222222222218 mm\n",
      "Mes 12 : 279.8555555555555 mm\n"
     ]
    }
   ],
   "source": [
    "#Precipitacion acumulada\n",
    "ACUM=0.0\n",
    "for i in range(12):\n",
    "    PrecipMensual = df0['PRECIP'][df0['MES']==[i+1]].sum()/NAÑOS\n",
    "    ACUM=ACUM+PrecipMensual\n",
    "    print(\"Mes\", i+1,\":\", ACUM, \"mm\")"
   ]
  },
  {
   "cell_type": "code",
   "execution_count": 17,
   "metadata": {},
   "outputs": [
    {
     "name": "stdout",
     "output_type": "stream",
     "text": [
      "Tmax promedio Ene: 24.18695652173913 ºC\n",
      "Tmax promedio Feb: 25.756658595641646 ºC\n",
      "Tmax promedio Mar: 28.590233545647557 ºC\n",
      "Tmax promedio Abr: 32.62235294117647 ºC\n",
      "Tmax promedio May: 35.92363184079602 ºC\n",
      "Tmax promedio Jun: 39.74064837905237 ºC\n",
      "Tmax promedio Jul: 38.86363636363637 ºC\n",
      "Tmax promedio Ago: 38.51125 ºC\n",
      "Tmax promedio Sep: 37.79302325581396 ºC\n",
      "Tmax promedio Oct: 34.64415584415585 ºC\n",
      "Tmax promedio Nov: 28.777915632754343 ºC\n",
      "Tmax promedio Dic: 23.85022026431718 ºC\n"
     ]
    }
   ],
   "source": [
    "#TMAX promedio mensual \n",
    "#Sumar las Tmax y dividir entre el número total de datos válidos para ese mes determinado (función .count())\n",
    "TmaxPromEne = df0[df0['MES']==1]['TMAX'].sum()/df0[df0['MES'] ==1]['TMAX'].count()\n",
    "TmaxPromFeb = df0[df0['MES']==2]['TMAX'].sum()/df0[df0['MES'] ==2]['TMAX'].count()\n",
    "TmaxPromMar = df0[df0['MES']==3]['TMAX'].sum()/df0[df0['MES'] ==3]['TMAX'].count()\n",
    "TmaxPromAbr = df0[df0['MES']==4]['TMAX'].sum()/df0[df0['MES'] ==4]['TMAX'].count()\n",
    "TmaxPromMay = df0[df0['MES']==5]['TMAX'].sum()/df0[df0['MES'] ==5]['TMAX'].count()\n",
    "TmaxPromJun = df0[df0['MES']==6]['TMAX'].sum()/df0[df0['MES'] ==6]['TMAX'].count()\n",
    "TmaxPromJul = df0[df0['MES']==7]['TMAX'].sum()/df0[df0['MES'] ==7]['TMAX'].count()\n",
    "TmaxPromAgo = df0[df0['MES']==8]['TMAX'].sum()/df0[df0['MES'] ==8]['TMAX'].count()\n",
    "TmaxPromSep = df0[df0['MES']==9]['TMAX'].sum()/df0[df0['MES'] ==9]['TMAX'].count()\n",
    "TmaxPromOct = df0[df0['MES']==10]['TMAX'].sum()/df0[df0['MES'] ==10]['TMAX'].count()\n",
    "TmaxPromNov = df0[df0['MES']==11]['TMAX'].sum()/df0[df0['MES'] ==11]['TMAX'].count()\n",
    "TmaxPromDic = df0[df0['MES']==12]['TMAX'].sum()/df0[df0['MES'] ==12]['TMAX'].count()\n",
    "print(\"Tmax promedio Ene:\", TmaxPromEne, \"ºC\")\n",
    "print(\"Tmax promedio Feb:\", TmaxPromFeb, \"ºC\")\n",
    "print(\"Tmax promedio Mar:\", TmaxPromMar, \"ºC\")\n",
    "print(\"Tmax promedio Abr:\", TmaxPromAbr, \"ºC\")\n",
    "print(\"Tmax promedio May:\", TmaxPromMay, \"ºC\")\n",
    "print(\"Tmax promedio Jun:\", TmaxPromJun, \"ºC\")\n",
    "print(\"Tmax promedio Jul:\", TmaxPromJul, \"ºC\")\n",
    "print(\"Tmax promedio Ago:\", TmaxPromAgo, \"ºC\")\n",
    "print(\"Tmax promedio Sep:\", TmaxPromSep, \"ºC\")\n",
    "print(\"Tmax promedio Oct:\", TmaxPromOct, \"ºC\")\n",
    "print(\"Tmax promedio Nov:\", TmaxPromNov, \"ºC\")\n",
    "print(\"Tmax promedio Dic:\", TmaxPromDic, \"ºC\")"
   ]
  },
  {
   "cell_type": "code",
   "execution_count": 18,
   "metadata": {},
   "outputs": [
    {
     "name": "stdout",
     "output_type": "stream",
     "text": [
      "Tmin promedio Ene: 24.18695652173913 ºC\n",
      "Tmin promedio Feb: 25.756658595641646 ºC\n",
      "Tmin promedio Mar: 28.590233545647557 ºC\n",
      "Tmin promedio Abr: 32.62235294117647 ºC\n",
      "Tmin promedio May: 35.92363184079602 ºC\n",
      "Tmin promedio Jun: 39.74064837905237 ºC\n",
      "Tmin promedio Jul: 38.86363636363637 ºC\n",
      "Tmin promedio Ago: 38.51125 ºC\n",
      "Tmin promedio Sep: 37.79302325581396 ºC\n",
      "Tmin promedio Oct: 34.64415584415585 ºC\n",
      "Tmin promedio Nov: 28.777915632754343 ºC\n",
      "Tmin promedio Dic: 23.85022026431718 ºC\n"
     ]
    }
   ],
   "source": [
    "#TMIN promedio mensual\n",
    "#Sumar las Tmax y dividir entre el número total de datos válidos para ese mes determinado (función .count())\n",
    "TminPromEne = df0[df0['MES']==1]['TMIN'].sum()/df0[df0['MES'] ==1]['TMIN'].count()\n",
    "TminPromFeb = df0[df0['MES']==2]['TMIN'].sum()/df0[df0['MES'] ==2]['TMIN'].count()\n",
    "TminPromMar = df0[df0['MES']==3]['TMIN'].sum()/df0[df0['MES'] ==3]['TMIN'].count()\n",
    "TminPromAbr = df0[df0['MES']==4]['TMIN'].sum()/df0[df0['MES'] ==4]['TMIN'].count()\n",
    "TminPromMay = df0[df0['MES']==5]['TMIN'].sum()/df0[df0['MES'] ==5]['TMIN'].count()\n",
    "TminPromJun = df0[df0['MES']==6]['TMIN'].sum()/df0[df0['MES'] ==6]['TMIN'].count()\n",
    "TminPromJul = df0[df0['MES']==7]['TMIN'].sum()/df0[df0['MES'] ==7]['TMIN'].count()\n",
    "TminPromAgo = df0[df0['MES']==8]['TMIN'].sum()/df0[df0['MES'] ==8]['TMIN'].count()\n",
    "TminPromSep = df0[df0['MES']==9]['TMIN'].sum()/df0[df0['MES'] ==9]['TMIN'].count()\n",
    "TminPromOct = df0[df0['MES']==10]['TMIN'].sum()/df0[df0['MES'] ==10]['TMIN'].count()\n",
    "TminPromNov = df0[df0['MES']==11]['TMIN'].sum()/df0[df0['MES'] ==11]['TMIN'].count()\n",
    "TminPromDic = df0[df0['MES']==12]['TMIN'].sum()/df0[df0['MES'] ==12]['TMIN'].count()\n",
    "print(\"Tmin promedio Ene:\", TmaxPromEne, \"ºC\")\n",
    "print(\"Tmin promedio Feb:\", TmaxPromFeb, \"ºC\")\n",
    "print(\"Tmin promedio Mar:\", TmaxPromMar, \"ºC\")\n",
    "print(\"Tmin promedio Abr:\", TmaxPromAbr, \"ºC\")\n",
    "print(\"Tmin promedio May:\", TmaxPromMay, \"ºC\")\n",
    "print(\"Tmin promedio Jun:\", TmaxPromJun, \"ºC\")\n",
    "print(\"Tmin promedio Jul:\", TmaxPromJul, \"ºC\")\n",
    "print(\"Tmin promedio Ago:\", TmaxPromAgo, \"ºC\")\n",
    "print(\"Tmin promedio Sep:\", TmaxPromSep, \"ºC\")\n",
    "print(\"Tmin promedio Oct:\", TmaxPromOct, \"ºC\")\n",
    "print(\"Tmin promedio Nov:\", TmaxPromNov, \"ºC\")\n",
    "print(\"Tmin promedio Dic:\", TmaxPromDic, \"ºC\")"
   ]
  },
  {
   "cell_type": "code",
   "execution_count": null,
   "metadata": {},
   "outputs": [],
   "source": []
  }
 ],
 "metadata": {
  "kernelspec": {
   "display_name": "Python 3",
   "language": "python",
   "name": "python3"
  },
  "language_info": {
   "codemirror_mode": {
    "name": "ipython",
    "version": 3
   },
   "file_extension": ".py",
   "mimetype": "text/x-python",
   "name": "python",
   "nbconvert_exporter": "python",
   "pygments_lexer": "ipython3",
   "version": "3.7.1"
  }
 },
 "nbformat": 4,
 "nbformat_minor": 2
}
