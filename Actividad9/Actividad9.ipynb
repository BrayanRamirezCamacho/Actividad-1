{
 "cells": [
  {
   "cell_type": "code",
   "execution_count": 3,
   "metadata": {},
   "outputs": [],
   "source": [
    "def vectorfield(w, t, p):\n",
    "    \"\"\"\n",
    "    Defines the differential equations for the coupled spring-mass system.\n",
    "\n",
    "    Arguments:\n",
    "        w :  vector of the state variables:\n",
    "                  w = [x1,y1,x2,y2]\n",
    "        t :  time\n",
    "        p :  vector of the parameters:\n",
    "                  p = [m1,m2,k1,k2,k3,L1,L2,b1,b2]\n",
    "    \"\"\"\n",
    "    x1, y1, x2, y2 = w\n",
    "    m1, m2, k1, k2, k3, L1, L2, b1, b2 = p\n",
    "\n",
    "    # Create f = (x1',y1',x2',y2'):\n",
    "    \n",
    "\n",
    "    f = [y1,\n",
    "         ( - k1 * ( x1 - L1 ) - k2 * ( x1 - L1 + L2 - x2 ) ) / m1,\n",
    "         y2,\n",
    "         ( - k3 * ( x2 - L2 ) - k2 * ( x2 -L2 + L1 - x1 ) ) / m2]\n",
    "    return f\n",
    "\n",
    "#Con fuerza de amortiguamiento esto se convierte en\n",
    "#    f = [y1,\n",
    "#         (-b1 * y1 - k1 * (x1 - L1) + k2 * (x2 - x1 - L2)) / m1,\n",
    "#         y2,\n",
    "#         (-b2 * y2 - k2 * (x2 - x1 - L2)) / m2]"
   ]
  },
  {
   "cell_type": "code",
   "execution_count": 4,
   "metadata": {},
   "outputs": [],
   "source": [
    "# Use ODEINT to solve the differential equations defined by the vector field\n",
    "from scipy.integrate import odeint\n",
    "\n",
    "# Parameter values\n",
    "\n",
    "# Masses:\n",
    "m1 = 1.0\n",
    "m2 = 1.0\n",
    "\n",
    "# Spring constants\n",
    "k1 = 1.0\n",
    "k2 = 1.0\n",
    "k3 = 1.0\n",
    "\n",
    "# Natural lengths\n",
    "L1 = 1.0\n",
    "L2 = 1.0\n",
    "\n",
    "# Friction coefficients\n",
    "b1 = 0.0\n",
    "b2 = 0.0\n",
    "\n",
    "# Initial conditions\n",
    "\n",
    "# x1 and x2 are the initial displacements; y1 and y2 are the initial velocities\n",
    "x1 = 0.5\n",
    "y1 = 0.0\n",
    "x2 = -0.5\n",
    "y2 = 0.0\n",
    "\n",
    "# ODE solver parameters\n",
    "abserr = 1.0e-8\n",
    "relerr = 1.0e-6\n",
    "stoptime = 50.0\n",
    "numpoints = 250\n",
    "\n",
    "# Create the time samples for the output of the ODE solver.\n",
    "# I use a large number of points, only because I want to make\n",
    "# a plot of the solution that looks nice.\n",
    "t = [ stoptime * float(i) / (numpoints - 1) for i in range(numpoints) ]\n",
    "\n",
    "# Pack up the parameters and initial conditions:\n",
    "p = [ m1, m2, k1, k2, k3, L1, L2, b1, b2 ]\n",
    "w0 = [ x1, y1, x2, y2 ]\n",
    "\n",
    "# Call the ODE solver.\n",
    "wsol = odeint(vectorfield, w0, t, args=(p,),\n",
    "              atol=abserr, rtol=relerr)\n",
    "\n",
    "for t1, w1 in zip(t, wsol): \n",
    "    print(t1, w1[0], w1[1], w1[2], w1[3], file=open(\"two_springs.dat\", \"a\"))"
   ]
  },
  {
   "cell_type": "code",
   "execution_count": 5,
   "metadata": {},
   "outputs": [
    {
     "data": {
      "text/plain": [
       "<function matplotlib.pyplot.show(*args, **kw)>"
      ]
     },
     "execution_count": 5,
     "metadata": {},
     "output_type": "execute_result"
    }
   ],
   "source": [
    "# Plot the solution that was generated\n",
    "\n",
    "from numpy import loadtxt\n",
    "import matplotlib.pyplot as plt\n",
    "from matplotlib.font_manager import FontProperties\n",
    "\n",
    "t, x1, xy, x2, y2 = loadtxt('two_springs.dat', unpack=True)\n",
    "\n",
    "plt.figure(figsize=(6, 4.5))\n",
    "\n",
    "plt.xlabel('Tiempo (s)')\n",
    "plt.ylabel('Posición (m)')\n",
    "plt.grid()\n",
    "#hold(True)\n",
    "lw = 1.5\n",
    "\n",
    "plt.plot(t, x1, 'r', linewidth=lw)\n",
    "plt.plot(t, x2, 'b', linewidth=lw)\n",
    "\n",
    "plt.legend((r'$x_1$', r'$x_2$'), prop=FontProperties(size=16))\n",
    "plt.title('Desplazamiento de Bloques en un\\nSistema de Osciladores Acoplados')\n",
    "plt.savefig('two_springs.png', dpi=100)\n",
    "plt.show\n",
    "\n",
    "#R. Fitzpatrick normaliza las unidades de t (Eje X), usando T0=2pi/w0, con w0=sqrt(k/m). \n",
    "#Pero esto no puede aplicarse aquí porque k1 y k2 son diferentes, al igual que m1 y m2."
   ]
  },
  {
   "cell_type": "code",
   "execution_count": null,
   "metadata": {},
   "outputs": [],
   "source": []
  }
 ],
 "metadata": {
  "kernelspec": {
   "display_name": "Python 3",
   "language": "python",
   "name": "python3"
  },
  "language_info": {
   "codemirror_mode": {
    "name": "ipython",
    "version": 3
   },
   "file_extension": ".py",
   "mimetype": "text/x-python",
   "name": "python",
   "nbconvert_exporter": "python",
   "pygments_lexer": "ipython3",
   "version": "3.7.1"
  }
 },
 "nbformat": 4,
 "nbformat_minor": 2
}
