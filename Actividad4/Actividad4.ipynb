{
 "cells": [
  {
   "cell_type": "code",
   "execution_count": 1,
   "metadata": {},
   "outputs": [],
   "source": [
    "import pandas as pd\n",
    "import numpy as np\n",
    "import matplotlib.pyplot as plt"
   ]
  },
  {
   "cell_type": "code",
   "execution_count": 2,
   "metadata": {},
   "outputs": [],
   "source": [
    "sentinels = {'PRECIP': ['Nulo'], 'EVAP': ['Nulo'], 'TMAX': ['Nulo'],'TMIN': ['Nulo']}"
   ]
  },
  {
   "cell_type": "code",
   "execution_count": null,
   "metadata": {},
   "outputs": [],
   "source": [
    "datos_df = pd.read_csv(\"cajeme.txt\",skiprows=0, sep='\\s+',na_values=sentinels)"
   ]
  },
  {
   "cell_type": "code",
   "execution_count": 3,
   "metadata": {},
   "outputs": [],
   "source": [
    "datos_df = pd.read_csv(\"unison.txt\",skiprows=0, sep='\\s+',na_values=sentinels)"
   ]
  },
  {
   "cell_type": "code",
   "execution_count": 4,
   "metadata": {},
   "outputs": [],
   "source": [
    "df = pd.DataFrame(datos_df)"
   ]
  },
  {
   "cell_type": "code",
   "execution_count": 5,
   "metadata": {},
   "outputs": [],
   "source": [
    "df['FECHAN'] = pd.to_datetime(df.apply(lambda x: x['FECHA'], 1), dayfirst=True)\n",
    "df = df.drop(['FECHA'], 1)"
   ]
  },
  {
   "cell_type": "code",
   "execution_count": 6,
   "metadata": {},
   "outputs": [
    {
     "data": {
      "text/html": [
       "<div>\n",
       "<style scoped>\n",
       "    .dataframe tbody tr th:only-of-type {\n",
       "        vertical-align: middle;\n",
       "    }\n",
       "\n",
       "    .dataframe tbody tr th {\n",
       "        vertical-align: top;\n",
       "    }\n",
       "\n",
       "    .dataframe thead th {\n",
       "        text-align: right;\n",
       "    }\n",
       "</style>\n",
       "<table border=\"1\" class=\"dataframe\">\n",
       "  <thead>\n",
       "    <tr style=\"text-align: right;\">\n",
       "      <th></th>\n",
       "      <th>PRECIP</th>\n",
       "      <th>EVAP</th>\n",
       "      <th>TMAX</th>\n",
       "      <th>TMIN</th>\n",
       "      <th>FECHAN</th>\n",
       "      <th>MES</th>\n",
       "      <th>AÑO</th>\n",
       "    </tr>\n",
       "  </thead>\n",
       "  <tbody>\n",
       "    <tr>\n",
       "      <th>0</th>\n",
       "      <td>0.0</td>\n",
       "      <td>NaN</td>\n",
       "      <td>28.0</td>\n",
       "      <td>NaN</td>\n",
       "      <td>1981-10-14</td>\n",
       "      <td>10</td>\n",
       "      <td>1981</td>\n",
       "    </tr>\n",
       "    <tr>\n",
       "      <th>1</th>\n",
       "      <td>0.0</td>\n",
       "      <td>7.3</td>\n",
       "      <td>26.0</td>\n",
       "      <td>14.0</td>\n",
       "      <td>1981-10-15</td>\n",
       "      <td>10</td>\n",
       "      <td>1981</td>\n",
       "    </tr>\n",
       "    <tr>\n",
       "      <th>2</th>\n",
       "      <td>0.0</td>\n",
       "      <td>7.6</td>\n",
       "      <td>28.0</td>\n",
       "      <td>12.5</td>\n",
       "      <td>1981-10-16</td>\n",
       "      <td>10</td>\n",
       "      <td>1981</td>\n",
       "    </tr>\n",
       "    <tr>\n",
       "      <th>3</th>\n",
       "      <td>0.0</td>\n",
       "      <td>8.1</td>\n",
       "      <td>28.0</td>\n",
       "      <td>10.0</td>\n",
       "      <td>1981-10-17</td>\n",
       "      <td>10</td>\n",
       "      <td>1981</td>\n",
       "    </tr>\n",
       "    <tr>\n",
       "      <th>4</th>\n",
       "      <td>0.0</td>\n",
       "      <td>1.2</td>\n",
       "      <td>30.5</td>\n",
       "      <td>9.5</td>\n",
       "      <td>1981-10-18</td>\n",
       "      <td>10</td>\n",
       "      <td>1981</td>\n",
       "    </tr>\n",
       "  </tbody>\n",
       "</table>\n",
       "</div>"
      ],
      "text/plain": [
       "   PRECIP  EVAP  TMAX  TMIN     FECHAN  MES   AÑO\n",
       "0     0.0   NaN  28.0   NaN 1981-10-14   10  1981\n",
       "1     0.0   7.3  26.0  14.0 1981-10-15   10  1981\n",
       "2     0.0   7.6  28.0  12.5 1981-10-16   10  1981\n",
       "3     0.0   8.1  28.0  10.0 1981-10-17   10  1981\n",
       "4     0.0   1.2  30.5   9.5 1981-10-18   10  1981"
      ]
     },
     "execution_count": 6,
     "metadata": {},
     "output_type": "execute_result"
    }
   ],
   "source": [
    "df['MES'] = df['FECHAN'].dt.month\n",
    "df['AÑO'] = df['FECHAN'].dt.year\n",
    "df.head()"
   ]
  },
  {
   "cell_type": "code",
   "execution_count": 7,
   "metadata": {},
   "outputs": [],
   "source": [
    "#Almacenando el mes en cada variable\n",
    "df_ENE=df[df.MES==1]\n",
    "df_FEB=df[df.MES==2]\n",
    "df_MAR=df[df.MES==3]\n",
    "df_ABR=df[df.MES==4]\n",
    "df_MAY=df[df.MES==5]\n",
    "df_JUN=df[df.MES==6]\n",
    "df_JUL=df[df.MES==7]\n",
    "df_AGO=df[df.MES==8]\n",
    "df_SEP=df[df.MES==9]\n",
    "df_OCT=df[df.MES==10]\n",
    "df_NOV=df[df.MES==11]\n",
    "df_DIC=df[df.MES==12]"
   ]
  },
  {
   "cell_type": "code",
   "execution_count": 8,
   "metadata": {},
   "outputs": [
    {
     "name": "stdout",
     "output_type": "stream",
     "text": [
      "Enero =  277.9\n",
      "Febrero =  333.4\n",
      "Marzo =  89.6\n",
      "Abril =  43.800000000000004\n",
      "Mayo =  67.5\n",
      "Junio =  33.800000000000004\n",
      "Julio =  933.1999999999999\n",
      "Agosto =  1409.7\n",
      "Septiembre =  772.3999999999999\n",
      "Octubre =  124.4\n",
      "Noviembre =  324.7\n",
      "Diciembre =  627.0\n"
     ]
    }
   ],
   "source": [
    "#Precipitación acumulada por meses\n",
    "SP_ENE=df_ENE.PRECIP.sum()\n",
    "print(\"Enero = \",SP_ENE)\n",
    "\n",
    "SP_FEB=df_FEB.PRECIP.sum()\n",
    "print(\"Febrero = \",SP_FEB)\n",
    "\n",
    "SP_MAR=df_MAR.PRECIP.sum()\n",
    "print(\"Marzo = \",SP_MAR)\n",
    "\n",
    "SP_ABR=df_ABR.PRECIP.sum()\n",
    "print(\"Abril = \",SP_ABR)\n",
    "\n",
    "SP_MAY=df_MAY.PRECIP.sum()\n",
    "print(\"Mayo = \",SP_MAY)\n",
    "\n",
    "SP_JUN=df_JUN.PRECIP.sum()\n",
    "print(\"Junio = \",SP_JUN)\n",
    "\n",
    "SP_JUL=df_JUL.PRECIP.sum()\n",
    "print(\"Julio = \",SP_JUL)\n",
    "\n",
    "SP_AGO=df_AGO.PRECIP.sum()\n",
    "print(\"Agosto = \",SP_AGO)\n",
    "\n",
    "SP_SEP=df_SEP.PRECIP.sum()\n",
    "print(\"Septiembre = \",SP_SEP)\n",
    "\n",
    "SP_OCT=df_OCT.PRECIP.sum()\n",
    "print(\"Octubre = \",SP_OCT)\n",
    "\n",
    "SP_NOV=df_NOV.PRECIP.sum()\n",
    "print(\"Noviembre = \",SP_NOV)\n",
    "\n",
    "SP_DIC=df_DIC.PRECIP.sum()\n",
    "print(\"Diciembre = \",SP_DIC)"
   ]
  },
  {
   "cell_type": "code",
   "execution_count": 9,
   "metadata": {},
   "outputs": [
    {
     "data": {
      "image/png": "[encoded data removed]",
      "text/plain": [
       "<Figure size 432x288 with 1 Axes>"
      ]
     },
     "metadata": {
      "needs_background": "light"
     },
     "output_type": "display_data"
    }
   ],
   "source": [
    "#Para conocer los meses \n",
    "Meses = ('ENE', 'FEB', 'MAR', 'ABR', 'MAY', 'JUN', 'JUL','AGO','SEP','OCT','NOV','DIC')\n",
    "y_pos = np.arange(len(Meses))\n",
    "SumPre= [SP_ENE,SP_FEB,SP_MAR,SP_ABR,SP_MAY,SP_JUN,SP_JUL,SP_AGO,SP_SEP,SP_OCT,SP_NOV,SP_DIC]\n",
    " \n",
    "plt.bar(y_pos, SumPre, align='center', alpha=0.7)\n",
    "plt.xticks(y_pos, Meses)\n",
    "plt.ylabel('Precipitación acumulada (mm)')\n",
    "plt.title('Precipitación acumulada por meses (1980-2011)')\n",
    "plt.savefig('Precipitación_mensual',plt=2000)\n",
    "plt.show()"
   ]
  },
  {
   "cell_type": "code",
   "execution_count": null,
   "metadata": {},
   "outputs": [],
   "source": [
    "#Promedio de temperatura mínima por meses\n",
    "TMIN_ENE=df_ENE.TMIN.mean()\n",
    "print(\"ENE = \",TMIN_ENE)\n",
    "\n",
    "TMIN_FEB=df_FEB.TMIN.mean()\n",
    "print(\"FEB = \",TMIN_FEB)\n",
    "\n",
    "TMIN_MAR=df_MAR.TMIN.mean()\n",
    "print(\"MAR = \",TMIN_MAR)\n",
    "\n",
    "TMIN_ABR=df_ABR.TMIN.mean()\n",
    "print(\"ABR = \",TMIN_ABR)\n",
    "\n",
    "TMIN_MAY=df_MAY.TMIN.mean()\n",
    "print(\"MAY = \",TMIN_MAY)\n",
    "\n",
    "TMIN_JUN=df_JUN.TMIN.mean()\n",
    "print(\"JUN = \",TMIN_JUN)\n",
    "\n",
    "TMIN_JUL=df_JUL.TMIN.mean()\n",
    "print(\"JUL = \",TMIN_JUL)\n",
    "\n",
    "TMIN_AGO=df_AGO.TMIN.mean()\n",
    "print(\"AGO = \",TMIN_AGO)\n",
    "\n",
    "TMIN_SEP=df_SEP.TMIN.mean()\n",
    "print(\"SEP = \",TMIN_SEP)\n",
    "\n",
    "TMIN_OCT=df_OCT.TMIN.mean()\n",
    "print(\"OCT = \",TMIN_OCT)\n",
    "\n",
    "TMIN_NOV=df_NOV.TMIN.mean()\n",
    "print(\"NOV = \",TMIN_NOV)\n",
    "\n",
    "TMIN_DIC=df_DIC.TMIN.mean()\n",
    "print(\"DIC = \",TMIN_DIC)"
   ]
  },
  {
   "cell_type": "code",
   "execution_count": null,
   "metadata": {},
   "outputs": [],
   "source": [
    "#Promedio de temperatura máxima por meses\n",
    "TMAX_ENE=df_ENE.TMAX.mean()\n",
    "print(\"ENE = \",TMAX_ENE)\n",
    "\n",
    "TMAX_FEB=df_FEB.TMAX.mean()\n",
    "print(\"FEB = \",TMAX_FEB)\n",
    "\n",
    "TMAX_MAR=df_MAR.TMAX.mean()\n",
    "print(\"MAR = \",TMAX_MAR)\n",
    "\n",
    "TMAX_ABR=df_ABR.TMAX.mean()\n",
    "print(\"ABR = \",TMIN_ABR)\n",
    "\n",
    "TMAX_MAY=df_MAY.TMAX.mean()\n",
    "print(\"MAY = \",TMAX_MAY)\n",
    "\n",
    "TMAX_JUN=df_JUN.TMAX.mean()\n",
    "print(\"JUN = \",TMAX_JUN)\n",
    "\n",
    "TMAX_JUL=df_JUL.TMAX.mean()\n",
    "print(\"JUL = \",TMAX_JUL)\n",
    "\n",
    "TMAX_AGO=df_AGO.TMAX.mean()\n",
    "print(\"AGO = \",TMAX_AGO)\n",
    "\n",
    "TMAX_SEP=df_SEP.TMAX.mean()\n",
    "print(\"SEP = \",TMAX_SEP)\n",
    "\n",
    "TMAX_OCT=df_OCT.TMAX.mean()\n",
    "print(\"OCT = \",TMAX_OCT)\n",
    "\n",
    "TMAX_NOV=df_NOV.TMAX.mean()\n",
    "print(\"NOV = \",TMAX_NOV)\n",
    "\n",
    "TMAX_DIC=df_DIC.TMAX.mean()\n",
    "print(\"DIC = \",TMAX_DIC)"
   ]
  },
  {
   "cell_type": "code",
   "execution_count": null,
   "metadata": {},
   "outputs": [],
   "source": [
    "#Creando gráfica para temperatura máxima promedio en cada mes\n",
    "Meses = ('ENE', 'FEB', 'MAR', 'ABR', 'MAY', 'JUN', 'JUL','AGO','SEP','OCT','NOV','DIC')\n",
    "y_pos = np.arange(len(Meses))\n",
    "TMaxProm = [TMAX_ENE,TMAX_FEB,TMAX_MAR,TMAX_ABR,TMAX_MAY,TMAX_JUN,TMAX_JUL,TMAX_AGO,TMAX_SEP,TMAX_OCT,TMAX_NOV,TMAX_DIC]\n",
    "TMinProm = [TMIN_ENE,TMIN_FEB,TMIN_MAR,TMIN_ABR,TMIN_MAY,TMIN_JUN,TMIN_JUL,TMIN_AGO,TMIN_SEP,TMIN_OCT,TMIN_NOV,TMIN_DIC]\n"
   ]
  },
  {
   "cell_type": "code",
   "execution_count": null,
   "metadata": {},
   "outputs": [],
   "source": [
    "# basic plot\n",
    "TMaxProm.plot.box(grid='True')\n",
    "TMinProm.plot.box(grid='True')"
   ]
  },
  {
   "cell_type": "code",
   "execution_count": null,
   "metadata": {},
   "outputs": [],
   "source": [
    "TPromMax = pd.DataFrame(TMaxProm, columns=y_pos)\n",
    "TPromMax.plot.box(grid='True')\n",
    " "
   ]
  },
  {
   "cell_type": "code",
   "execution_count": null,
   "metadata": {},
   "outputs": [],
   "source": [
    "#Creando gráfica para temperatura máxima promedio en cada mes\n",
    "Meses = ('ENE', 'FEB', 'MAR', 'ABR', 'MAY', 'JUN', 'JUL','AGO','SEP','OCT','NOV','DIC')\n",
    "y_pos = np.arange(len(Meses))\n",
    "SumPre = [TMAX_ENE,TMAX_FEB,TMAX_MAR,TMAX_ABR,TMAX_MAY,TMAX_JUN,TMAX_JUL,TMAX_AGO,TMAX_SEP,TMAX_OCT,TMAX_NOV,TMAX_DIC]\n",
    "SumPre2 = [TMIN_ENE,TMIN_FEB,TMIN_MAR,TMIN_ABR,TMIN_MAY,TMIN_JUN,TMIN_JUL,TMIN_AGO,TMIN_SEP,TMIN_OCT,TMIN_NOV,TMIN_DIC]\n",
    "\n",
    "#Calculando anchura óptima\n",
    "width = np.min(np.diff(y_pos))/3\n",
    "\n",
    "plt.bar(y_pos-width, SumPre,width,align='center', alpha=0.7)\n",
    "plt.xticks(y_pos-width, size = 'small', color = 'r', rotation = 90)\n",
    "plt.bar(y_pos, SumPre2,width, align='center', alpha=0.7)\n",
    "plt.xticks(y_pos, size = 'small', color = 'k', rotation = 90)\n",
    "\n",
    "plt.xticks(y_pos, Meses)\n",
    "plt.ylabel('Temperatura promedio(°C)')\n",
    "plt.title('Temperatura promedio por meses (1980-2011)')\n",
    "plt.gca().legend(('TMAX','TMIN'),frameon=False,loc='upper left')\n",
    "plt.savefig('Temperaturasmensual',plt=2000)\n",
    "plt.show()"
   ]
  },
  {
   "cell_type": "code",
   "execution_count": null,
   "metadata": {},
   "outputs": [],
   "source": [
    "df.boxplot(column = 'SumPre');\n",
    "plt.title('')"
   ]
  },
  {
   "cell_type": "code",
   "execution_count": null,
   "metadata": {},
   "outputs": [],
   "source": [
    "SumPre.boxplot(column = 'SumPre');\n",
    "plt.title('')"
   ]
  },
  {
   "cell_type": "code",
   "execution_count": 10,
   "metadata": {},
   "outputs": [],
   "source": [
    "NAÑOS = df['AÑO'].unique()"
   ]
  },
  {
   "cell_type": "code",
   "execution_count": 11,
   "metadata": {},
   "outputs": [
    {
     "data": {
      "text/plain": [
       "array([1981, 1982, 1983, 1984, 1985, 1986, 1987, 1988, 1989, 1990, 1991,\n",
       "       1992, 1993, 1994, 1995, 1996, 1997, 1998], dtype=int64)"
      ]
     },
     "execution_count": 11,
     "metadata": {},
     "output_type": "execute_result"
    }
   ],
   "source": [
    "NAÑOS"
   ]
  },
  {
   "cell_type": "code",
   "execution_count": null,
   "metadata": {},
   "outputs": [],
   "source": [
    "NAÑOS.count()"
   ]
  },
  {
   "cell_type": "code",
   "execution_count": null,
   "metadata": {},
   "outputs": [],
   "source": [
    "print(NAÑOS.string.count()) "
   ]
  },
  {
   "cell_type": "code",
   "execution_count": null,
   "metadata": {},
   "outputs": [],
   "source": [
    "print(NAÑOS.count()) "
   ]
  },
  {
   "cell_type": "code",
   "execution_count": null,
   "metadata": {},
   "outputs": [],
   "source": [
    "NAÑOS = len(df['AÑO'].unique())\n",
    "print(NAÑOS, \"años de datos\")"
   ]
  },
  {
   "cell_type": "code",
   "execution_count": 12,
   "metadata": {},
   "outputs": [
    {
     "name": "stdout",
     "output_type": "stream",
     "text": [
      "18\n"
     ]
    }
   ],
   "source": [
    "print(len(NAÑOS))"
   ]
  },
  {
   "cell_type": "code",
   "execution_count": 13,
   "metadata": {},
   "outputs": [
    {
     "name": "stdout",
     "output_type": "stream",
     "text": [
      "18\n"
     ]
    }
   ],
   "source": [
    "NAÑOS=len(NAÑOS)\n",
    "print(NAÑOS)"
   ]
  },
  {
   "cell_type": "code",
   "execution_count": 16,
   "metadata": {},
   "outputs": [
    {
     "name": "stdout",
     "output_type": "stream",
     "text": [
      "Mes 1 : 15.44 mm , Acumulada: 0.86 mm\n",
      "Mes 2 : 18.52 mm , Acumulada: 1.08 mm\n",
      "Mes 3 : 4.98 mm , Acumulada: 0.34 mm\n",
      "Mes 4 : 2.43 mm , Acumulada: 0.15 mm\n",
      "Mes 5 : 3.75 mm , Acumulada: 0.22 mm\n",
      "Mes 6 : 1.88 mm , Acumulada: 0.12 mm\n",
      "Mes 7 : 51.84 mm , Acumulada: 2.89 mm\n",
      "Mes 8 : 78.32 mm , Acumulada: 4.51 mm\n",
      "Mes 9 : 42.91 mm , Acumulada: 2.63 mm\n",
      "Mes 10 : 6.91 mm , Acumulada: 0.53 mm\n",
      "Mes 11 : 18.04 mm , Acumulada: 1.03 mm\n",
      "Mes 12 : 34.83 mm , Acumulada: 1.99 mm\n"
     ]
    }
   ],
   "source": [
    "#Calculando la precipitación mensual acumulada promedio\n",
    "#Tomar la precipitación acumulada de un mes y tomar el promedio de todos los años\n",
    "\n",
    "# Calcular la suma de precipitación y dividir entre el número de años\n",
    "PrecipAcumProm=0.0\n",
    "for i in range(12):\n",
    "    PrecipMensual = df['PRECIP'][df['MES']==[i+1]].sum()/NAÑOS\n",
    "    PrecipAcumProm=(PrecipAcumProm+PrecipMensual)/NAÑOS\n",
    "    print(\"Mes\", i+1,\":\", np.round(PrecipMensual, decimals=2), \"mm\", \", Acumulada:\", \n",
    "          np.round(PrecipAcumProm, decimals=2), \"mm\")\n",
    "#   SumPre=PrecipAcumProm"
   ]
  },
  {
   "cell_type": "code",
   "execution_count": 17,
   "metadata": {},
   "outputs": [
    {
     "data": {
      "image/png": "[encoded data removed]",
      "text/plain": [
       "<Figure size 432x288 with 1 Axes>"
      ]
     },
     "metadata": {
      "needs_background": "light"
     },
     "output_type": "display_data"
    }
   ],
   "source": [
    "#Para conocer los meses \n",
    "Meses = ('ENE', 'FEB', 'MAR', 'ABR', 'MAY', 'JUN', 'JUL','AGO','SEP','OCT','NOV','DIC')\n",
    "y_pos = np.arange(len(Meses))\n",
    "#SumPre= [SP_ENE,SP_FEB,SP_MAR,SP_ABR,SP_MAY,SP_JUN,SP_JUL,SP_AGO,SP_SEP,SP_OCT,SP_NOV,SP_DIC]\n",
    " \n",
    "plt.bar(y_pos, PrecipAcumProm, align='center', alpha=0.8)\n",
    "plt.xticks(y_pos, Meses)\n",
    "plt.ylabel('Precipitación (mm)')\n",
    "plt.title('Precipitación mensual acumulada promedio (1981-1998)')\n",
    "plt.savefig('Precipitación_mensual_acumulada_promedio',plt=2000)\n",
    "plt.show()"
   ]
  },
  {
   "cell_type": "code",
   "execution_count": 18,
   "metadata": {},
   "outputs": [
    {
     "name": "stdout",
     "output_type": "stream",
     "text": [
      "Enero =  15.438888888888888\n",
      "Febrero =  18.522222222222222\n",
      "Marzo =  4.977777777777778\n",
      "Abril =  2.4333333333333336\n",
      "Mayo =  3.75\n",
      "Junio =  1.877777777777778\n",
      "Julio =  51.84444444444444\n",
      "Agosto =  78.31666666666666\n",
      "Septiembre =  42.911111111111104\n",
      "Octubre =  6.911111111111111\n",
      "Noviembre =  18.038888888888888\n",
      "Diciembre =  34.833333333333336\n"
     ]
    }
   ],
   "source": [
    "#Precipitación acumulada por meses\n",
    "SP_ENE=df_ENE.PRECIP.sum()/NAÑOS\n",
    "print(\"Enero = \",SP_ENE)\n",
    "\n",
    "SP_FEB=df_FEB.PRECIP.sum()/NAÑOS\n",
    "print(\"Febrero = \",SP_FEB)\n",
    "\n",
    "SP_MAR=df_MAR.PRECIP.sum()/NAÑOS\n",
    "print(\"Marzo = \",SP_MAR)\n",
    "\n",
    "SP_ABR=df_ABR.PRECIP.sum()/NAÑOS\n",
    "print(\"Abril = \",SP_ABR)\n",
    "\n",
    "SP_MAY=df_MAY.PRECIP.sum()/NAÑOS\n",
    "print(\"Mayo = \",SP_MAY)\n",
    "\n",
    "SP_JUN=df_JUN.PRECIP.sum()/NAÑOS\n",
    "print(\"Junio = \",SP_JUN)\n",
    "\n",
    "SP_JUL=df_JUL.PRECIP.sum()/NAÑOS\n",
    "print(\"Julio = \",SP_JUL)\n",
    "\n",
    "SP_AGO=df_AGO.PRECIP.sum()/NAÑOS\n",
    "print(\"Agosto = \",SP_AGO)\n",
    "\n",
    "SP_SEP=df_SEP.PRECIP.sum()/NAÑOS\n",
    "print(\"Septiembre = \",SP_SEP)\n",
    "\n",
    "SP_OCT=df_OCT.PRECIP.sum()/NAÑOS\n",
    "print(\"Octubre = \",SP_OCT)\n",
    "\n",
    "SP_NOV=df_NOV.PRECIP.sum()/NAÑOS\n",
    "print(\"Noviembre = \",SP_NOV)\n",
    "\n",
    "SP_DIC=df_DIC.PRECIP.sum()/NAÑOS\n",
    "print(\"Diciembre = \",SP_DIC)"
   ]
  },
  {
   "cell_type": "code",
   "execution_count": 19,
   "metadata": {},
   "outputs": [
    {
     "data": {
      "image/png": "[encoded data removed]",
      "text/plain": [
       "<Figure size 432x288 with 1 Axes>"
      ]
     },
     "metadata": {
      "needs_background": "light"
     },
     "output_type": "display_data"
    }
   ],
   "source": [
    "Meses = ('ENE', 'FEB', 'MAR', 'ABR', 'MAY', 'JUN', 'JUL','AGO','SEP','OCT','NOV','DIC')\n",
    "y_pos = np.arange(len(Meses))\n",
    "SumPre= [SP_ENE,SP_FEB,SP_MAR,SP_ABR,SP_MAY,SP_JUN,SP_JUL,SP_AGO,SP_SEP,SP_OCT,SP_NOV,SP_DIC]\n",
    " \n",
    "plt.bar(y_pos, SumPre, align='center', alpha=0.8)\n",
    "plt.xticks(y_pos, Meses)\n",
    "plt.ylabel('Precipitación (mm)')\n",
    "plt.title('Precipitación mensual acumulada promedio (1981-1998)')\n",
    "plt.savefig('Precipitación_mensual_acumulada_promedio',plt=2000)\n",
    "plt.show()"
   ]
  },
  {
   "cell_type": "code",
   "execution_count": 23,
   "metadata": {},
   "outputs": [
    {
     "data": {
      "image/png": "[encoded data removed]",
      "text/plain": [
       "<Figure size 432x288 with 1 Axes>"
      ]
     },
     "metadata": {
      "needs_background": "light"
     },
     "output_type": "display_data"
    }
   ],
   "source": [
    "#Creando arreglo de años y precipitación acumulada por año\n",
    "init = 1981\n",
    "AÑOS = [init + i for i in range(0,18)]\n",
    "PAÑO = [ df[df.AÑO==(init + i)].PRECIP.sum() for i in range(0,18)]\n",
    "\n",
    "#Creando dataframe para años y precipitación acumulada en cada año\n",
    "d = {'AÑO': AÑOS, 'PRECIPITACIÓN_TOTAL': PAÑO}\n",
    "df2 = pd.DataFrame(data=d)\n",
    "\n",
    "#Creando gráfica para precipitación total por año\n",
    "y_pos = np.arange(len(AÑOS))\n",
    " \n",
    "plt.bar(y_pos, PAÑO,  width=0.5,align='center', alpha=0.8)\n",
    "plt.xticks(y_pos, AÑOS, size = 'small', color = 'k', rotation = 90)\n",
    "plt.ylabel('Precipitación total (mm)')\n",
    "plt.title('Precipitación acumulada por año (1981-1998)')\n",
    "plt.savefig('Precipitación_anual_acumulada',plt=2000)\n",
    "plt.show()"
   ]
  },
  {
   "cell_type": "code",
   "execution_count": 26,
   "metadata": {},
   "outputs": [
    {
     "data": {
      "text/plain": [
       "<Figure size 432x288 with 0 Axes>"
      ]
     },
     "metadata": {},
     "output_type": "display_data"
    },
    {
     "data": {
      "image/png": "[encoded data removed]",
      "text/plain": [
       "<Figure size 432x288 with 1 Axes>"
      ]
     },
     "metadata": {
      "needs_background": "light"
     },
     "output_type": "display_data"
    }
   ],
   "source": [
    "# Gráfica de Temperatura Mámixa y Mínima\n",
    "df1 = df[['TMAX','TMIN']]\n",
    "plt.figure(); df1.plot(); plt.legend(loc='best')\n",
    "plt.title(\"Variación temporal de las temperaturas máximas y mínimas\")\n",
    "plt.ylabel(\"Temperatura (ºC)\")\n",
    "plt.grid(True)\n",
    "plt.savefig('Evolucion_Tmax_Tmin',plt=2000)\n",
    "plt.show()"
   ]
  },
  {
   "cell_type": "code",
   "execution_count": 27,
   "metadata": {},
   "outputs": [
    {
     "name": "stdout",
     "output_type": "stream",
     "text": [
      "ENE =  5.978260869565218\n",
      "FEB =  7.095410628019324\n",
      "MAR =  8.46808510638298\n",
      "ABR =  11.158685446009391\n",
      "MAY =  14.277556109725687\n",
      "JUN =  18.716957605985037\n",
      "JUL =  22.87530864197531\n",
      "AGO =  23.516497461928935\n",
      "SEP =  21.697916666666668\n",
      "OCT =  15.512987012987013\n",
      "NOV =  9.293233082706767\n",
      "DIC =  6.375275938189845\n",
      "ENE =  24.18695652173913\n",
      "FEB =  25.756658595641646\n",
      "MAR =  28.590233545647557\n",
      "ABR =  11.158685446009391\n",
      "MAY =  35.92363184079602\n",
      "JUN =  39.74064837905237\n",
      "JUL =  38.86363636363637\n",
      "AGO =  38.51125\n",
      "SEP =  37.79302325581396\n",
      "OCT =  34.64415584415585\n",
      "NOV =  28.777915632754343\n",
      "DIC =  23.85022026431718\n",
      " \n"
     ]
    },
    {
     "data": {
      "text/plain": [
       "[5.978260869565218,\n",
       " 7.095410628019324,\n",
       " 8.46808510638298,\n",
       " 11.158685446009391,\n",
       " 14.277556109725687,\n",
       " 18.716957605985037,\n",
       " 22.87530864197531,\n",
       " 23.516497461928935,\n",
       " 21.697916666666668,\n",
       " 15.512987012987013,\n",
       " 9.293233082706767,\n",
       " 6.375275938189845]"
      ]
     },
     "execution_count": 27,
     "metadata": {},
     "output_type": "execute_result"
    }
   ],
   "source": [
    "#Promedio de temperatura mínima por meses\n",
    "TMIN_ENE=df_ENE.TMIN.mean()\n",
    "print(\"ENE = \",TMIN_ENE)\n",
    "\n",
    "TMIN_FEB=df_FEB.TMIN.mean()\n",
    "print(\"FEB = \",TMIN_FEB)\n",
    "\n",
    "TMIN_MAR=df_MAR.TMIN.mean()\n",
    "print(\"MAR = \",TMIN_MAR)\n",
    "\n",
    "TMIN_ABR=df_ABR.TMIN.mean()\n",
    "print(\"ABR = \",TMIN_ABR)\n",
    "\n",
    "TMIN_MAY=df_MAY.TMIN.mean()\n",
    "print(\"MAY = \",TMIN_MAY)\n",
    "\n",
    "TMIN_JUN=df_JUN.TMIN.mean()\n",
    "print(\"JUN = \",TMIN_JUN)\n",
    "\n",
    "TMIN_JUL=df_JUL.TMIN.mean()\n",
    "print(\"JUL = \",TMIN_JUL)\n",
    "\n",
    "TMIN_AGO=df_AGO.TMIN.mean()\n",
    "print(\"AGO = \",TMIN_AGO)\n",
    "\n",
    "TMIN_SEP=df_SEP.TMIN.mean()\n",
    "print(\"SEP = \",TMIN_SEP)\n",
    "\n",
    "TMIN_OCT=df_OCT.TMIN.mean()\n",
    "print(\"OCT = \",TMIN_OCT)\n",
    "\n",
    "TMIN_NOV=df_NOV.TMIN.mean()\n",
    "print(\"NOV = \",TMIN_NOV)\n",
    "\n",
    "TMIN_DIC=df_DIC.TMIN.mean()\n",
    "print(\"DIC = \",TMIN_DIC)\n",
    "\n",
    "#Promedio de temperatura máxima por meses\n",
    "TMAX_ENE=df_ENE.TMAX.mean()\n",
    "print(\"ENE = \",TMAX_ENE)\n",
    "\n",
    "TMAX_FEB=df_FEB.TMAX.mean()\n",
    "print(\"FEB = \",TMAX_FEB)\n",
    "\n",
    "TMAX_MAR=df_MAR.TMAX.mean()\n",
    "print(\"MAR = \",TMAX_MAR)\n",
    "\n",
    "TMAX_ABR=df_ABR.TMAX.mean()\n",
    "print(\"ABR = \",TMIN_ABR)\n",
    "\n",
    "TMAX_MAY=df_MAY.TMAX.mean()\n",
    "print(\"MAY = \",TMAX_MAY)\n",
    "\n",
    "TMAX_JUN=df_JUN.TMAX.mean()\n",
    "print(\"JUN = \",TMAX_JUN)\n",
    "\n",
    "TMAX_JUL=df_JUL.TMAX.mean()\n",
    "print(\"JUL = \",TMAX_JUL)\n",
    "\n",
    "TMAX_AGO=df_AGO.TMAX.mean()\n",
    "print(\"AGO = \",TMAX_AGO)\n",
    "\n",
    "TMAX_SEP=df_SEP.TMAX.mean()\n",
    "print(\"SEP = \",TMAX_SEP)\n",
    "\n",
    "TMAX_OCT=df_OCT.TMAX.mean()\n",
    "print(\"OCT = \",TMAX_OCT)\n",
    "\n",
    "TMAX_NOV=df_NOV.TMAX.mean()\n",
    "print(\"NOV = \",TMAX_NOV)\n",
    "\n",
    "TMAX_DIC=df_DIC.TMAX.mean()\n",
    "print(\"DIC = \",TMAX_DIC)\n",
    "\n",
    "#Creando gráfica para temperatura máxima promedio en cada mes\n",
    "Meses = ('ENE', 'FEB', 'MAR', 'ABR', 'MAY', 'JUN', 'JUL','AGO','SEP','OCT','NOV','DIC')\n",
    "y_pos = np.arange(len(Meses))\n",
    "TMaxProm = [TMAX_ENE,TMAX_FEB,TMAX_MAR,TMAX_ABR,TMAX_MAY,TMAX_JUN,TMAX_JUL,TMAX_AGO,TMAX_SEP,TMAX_OCT,TMAX_NOV,TMAX_DIC]\n",
    "TMinProm = [TMIN_ENE,TMIN_FEB,TMIN_MAR,TMIN_ABR,TMIN_MAY,TMIN_JUN,TMIN_JUL,TMIN_AGO,TMIN_SEP,TMIN_OCT,TMIN_NOV,TMIN_DIC]\n",
    "\n",
    "\n",
    "TMaxProm\n",
    "print(\" \")\n",
    "TMinProm"
   ]
  },
  {
   "cell_type": "code",
   "execution_count": 28,
   "metadata": {},
   "outputs": [
    {
     "data": {
      "text/plain": [
       "[5.978260869565218,\n",
       " 7.095410628019324,\n",
       " 8.46808510638298,\n",
       " 11.158685446009391,\n",
       " 14.277556109725687,\n",
       " 18.716957605985037,\n",
       " 22.87530864197531,\n",
       " 23.516497461928935,\n",
       " 21.697916666666668,\n",
       " 15.512987012987013,\n",
       " 9.293233082706767,\n",
       " 6.375275938189845]"
      ]
     },
     "execution_count": 28,
     "metadata": {},
     "output_type": "execute_result"
    }
   ],
   "source": [
    "TMinProm"
   ]
  },
  {
   "cell_type": "code",
   "execution_count": 29,
   "metadata": {},
   "outputs": [
    {
     "data": {
      "text/plain": [
       "[24.18695652173913,\n",
       " 25.756658595641646,\n",
       " 28.590233545647557,\n",
       " 32.62235294117647,\n",
       " 35.92363184079602,\n",
       " 39.74064837905237,\n",
       " 38.86363636363637,\n",
       " 38.51125,\n",
       " 37.79302325581396,\n",
       " 34.64415584415585,\n",
       " 28.777915632754343,\n",
       " 23.85022026431718]"
      ]
     },
     "execution_count": 29,
     "metadata": {},
     "output_type": "execute_result"
    }
   ],
   "source": [
    "TMaxProm"
   ]
  },
  {
   "cell_type": "code",
   "execution_count": 33,
   "metadata": {},
   "outputs": [
    {
     "data": {
      "text/plain": [
       "(   PRECIP  EVAP  TMAX  TMIN     FECHAN  MES   AÑO\n",
       " 0     0.0   NaN  28.0   NaN 1981-10-14   10  1981\n",
       " 1     0.0   7.3  26.0  14.0 1981-10-15   10  1981\n",
       " 2     0.0   7.6  28.0  12.5 1981-10-16   10  1981\n",
       " 3     0.0   8.1  28.0  10.0 1981-10-17   10  1981\n",
       " 4     0.0   1.2  30.5   9.5 1981-10-18   10  1981,\n",
       "       PRECIP  EVAP  TMAX  TMIN     FECHAN  MES   AÑO\n",
       " 5439     0.0   NaN  35.5   NaN 1998-09-26    9  1998\n",
       " 5440     0.0   NaN  37.5  16.5 1998-09-27    9  1998\n",
       " 5441     0.0   NaN  38.5  20.0 1998-09-28    9  1998\n",
       " 5442     0.0   NaN  38.5  20.0 1998-09-29    9  1998\n",
       " 5443     0.0   NaN  37.5  20.0 1998-09-30    9  1998)"
      ]
     },
     "execution_count": 33,
     "metadata": {},
     "output_type": "execute_result"
    }
   ],
   "source": [
    "df.head(), df.tail()"
   ]
  },
  {
   "cell_type": "code",
   "execution_count": 47,
   "metadata": {},
   "outputs": [
    {
     "ename": "KeyError",
     "evalue": "'None of [0       28.0\\n1       26.0\\n2       28.0\\n3       28.0\\n4       30.5\\n5       32.0\\n6       32.0\\n7       31.0\\n8       32.0\\n9       35.5\\n10      33.0\\n11      30.5\\n12      32.0\\n13      34.0\\n14      32.5\\n15      28.0\\n16      28.0\\n17      32.0\\n18      33.0\\n19      33.0\\n20      33.0\\n21      32.5\\n22      31.5\\n23      30.0\\n24      30.0\\n25      30.0\\n26      32.0\\n27      32.5\\n28      32.0\\n29      30.0\\n        ... \\n5414    41.5\\n5415    42.5\\n5416    41.5\\n5417    39.5\\n5418    32.5\\n5419     NaN\\n5420    39.5\\n5421    42.5\\n5422    40.5\\n5423    38.5\\n5424    38.5\\n5425    39.5\\n5426     NaN\\n5427    41.5\\n5428    41.0\\n5429    42.5\\n5430    41.5\\n5431    42.5\\n5432     NaN\\n5433    41.5\\n5434    37.0\\n5435    36.5\\n5436    35.5\\n5437    34.5\\n5438     NaN\\n5439    35.5\\n5440    37.5\\n5441    38.5\\n5442    38.5\\n5443    37.5\\nName: TMAX, Length: 5444, dtype: float64] are in the [columns]'",
     "output_type": "error",
     "traceback": [
      "\u001b[1;31m---------------------------------------------------------------------------\u001b[0m",
      "\u001b[1;31mKeyError\u001b[0m                                  Traceback (most recent call last)",
      "\u001b[1;32m<ipython-input-47-0b7664d02639>\u001b[0m in \u001b[0;36m<module>\u001b[1;34m\u001b[0m\n\u001b[0;32m      1\u001b[0m \u001b[1;31m#Creando lista conteniendo una lista para la TMAX de cada mes.\u001b[0m\u001b[1;33m\u001b[0m\u001b[1;33m\u001b[0m\u001b[1;33m\u001b[0m\u001b[0m\n\u001b[0;32m      2\u001b[0m \u001b[1;31m#Es una lista con 12 listas, cada una con 30 elementos\u001b[0m\u001b[1;33m\u001b[0m\u001b[1;33m\u001b[0m\u001b[1;33m\u001b[0m\u001b[0m\n\u001b[1;32m----> 3\u001b[1;33m \u001b[0mTMaxEne\u001b[0m\u001b[1;33m=\u001b[0m\u001b[0mdf\u001b[0m\u001b[1;33m.\u001b[0m\u001b[0mloc\u001b[0m\u001b[1;33m[\u001b[0m\u001b[0mdf\u001b[0m\u001b[1;33m.\u001b[0m\u001b[0mMES\u001b[0m\u001b[1;33m==\u001b[0m\u001b[1;36m1\u001b[0m\u001b[1;33m,\u001b[0m\u001b[0mdf\u001b[0m\u001b[1;33m.\u001b[0m\u001b[0mTMAX\u001b[0m\u001b[1;33m]\u001b[0m\u001b[1;33m\u001b[0m\u001b[1;33m\u001b[0m\u001b[0m\n\u001b[0m\u001b[0;32m      4\u001b[0m \u001b[1;31m#print(TMaxEne)\u001b[0m\u001b[1;33m\u001b[0m\u001b[1;33m\u001b[0m\u001b[1;33m\u001b[0m\u001b[0m\n\u001b[0;32m      5\u001b[0m \u001b[1;33m\u001b[0m\u001b[0m\n",
      "\u001b[1;32m~\\Anaconda2\\lib\\site-packages\\pandas\\core\\indexing.py\u001b[0m in \u001b[0;36m__getitem__\u001b[1;34m(self, key)\u001b[0m\n\u001b[0;32m   1470\u001b[0m             \u001b[1;32mexcept\u001b[0m \u001b[1;33m(\u001b[0m\u001b[0mKeyError\u001b[0m\u001b[1;33m,\u001b[0m \u001b[0mIndexError\u001b[0m\u001b[1;33m)\u001b[0m\u001b[1;33m:\u001b[0m\u001b[1;33m\u001b[0m\u001b[1;33m\u001b[0m\u001b[0m\n\u001b[0;32m   1471\u001b[0m                 \u001b[1;32mpass\u001b[0m\u001b[1;33m\u001b[0m\u001b[1;33m\u001b[0m\u001b[0m\n\u001b[1;32m-> 1472\u001b[1;33m             \u001b[1;32mreturn\u001b[0m \u001b[0mself\u001b[0m\u001b[1;33m.\u001b[0m\u001b[0m_getitem_tuple\u001b[0m\u001b[1;33m(\u001b[0m\u001b[0mkey\u001b[0m\u001b[1;33m)\u001b[0m\u001b[1;33m\u001b[0m\u001b[1;33m\u001b[0m\u001b[0m\n\u001b[0m\u001b[0;32m   1473\u001b[0m         \u001b[1;32melse\u001b[0m\u001b[1;33m:\u001b[0m\u001b[1;33m\u001b[0m\u001b[1;33m\u001b[0m\u001b[0m\n\u001b[0;32m   1474\u001b[0m             \u001b[1;31m# we by definition only have the 0th axis\u001b[0m\u001b[1;33m\u001b[0m\u001b[1;33m\u001b[0m\u001b[1;33m\u001b[0m\u001b[0m\n",
      "\u001b[1;32m~\\Anaconda2\\lib\\site-packages\\pandas\\core\\indexing.py\u001b[0m in \u001b[0;36m_getitem_tuple\u001b[1;34m(self, tup)\u001b[0m\n\u001b[0;32m    888\u001b[0m                 \u001b[1;32mcontinue\u001b[0m\u001b[1;33m\u001b[0m\u001b[1;33m\u001b[0m\u001b[0m\n\u001b[0;32m    889\u001b[0m \u001b[1;33m\u001b[0m\u001b[0m\n\u001b[1;32m--> 890\u001b[1;33m             \u001b[0mretval\u001b[0m \u001b[1;33m=\u001b[0m \u001b[0mgetattr\u001b[0m\u001b[1;33m(\u001b[0m\u001b[0mretval\u001b[0m\u001b[1;33m,\u001b[0m \u001b[0mself\u001b[0m\u001b[1;33m.\u001b[0m\u001b[0mname\u001b[0m\u001b[1;33m)\u001b[0m\u001b[1;33m.\u001b[0m\u001b[0m_getitem_axis\u001b[0m\u001b[1;33m(\u001b[0m\u001b[0mkey\u001b[0m\u001b[1;33m,\u001b[0m \u001b[0maxis\u001b[0m\u001b[1;33m=\u001b[0m\u001b[0mi\u001b[0m\u001b[1;33m)\u001b[0m\u001b[1;33m\u001b[0m\u001b[1;33m\u001b[0m\u001b[0m\n\u001b[0m\u001b[0;32m    891\u001b[0m \u001b[1;33m\u001b[0m\u001b[0m\n\u001b[0;32m    892\u001b[0m         \u001b[1;32mreturn\u001b[0m \u001b[0mretval\u001b[0m\u001b[1;33m\u001b[0m\u001b[1;33m\u001b[0m\u001b[0m\n",
      "\u001b[1;32m~\\Anaconda2\\lib\\site-packages\\pandas\\core\\indexing.py\u001b[0m in \u001b[0;36m_getitem_axis\u001b[1;34m(self, key, axis)\u001b[0m\n\u001b[0;32m   1899\u001b[0m                     \u001b[1;32mraise\u001b[0m \u001b[0mValueError\u001b[0m\u001b[1;33m(\u001b[0m\u001b[1;34m'Cannot index with multidimensional key'\u001b[0m\u001b[1;33m)\u001b[0m\u001b[1;33m\u001b[0m\u001b[1;33m\u001b[0m\u001b[0m\n\u001b[0;32m   1900\u001b[0m \u001b[1;33m\u001b[0m\u001b[0m\n\u001b[1;32m-> 1901\u001b[1;33m                 \u001b[1;32mreturn\u001b[0m \u001b[0mself\u001b[0m\u001b[1;33m.\u001b[0m\u001b[0m_getitem_iterable\u001b[0m\u001b[1;33m(\u001b[0m\u001b[0mkey\u001b[0m\u001b[1;33m,\u001b[0m \u001b[0maxis\u001b[0m\u001b[1;33m=\u001b[0m\u001b[0maxis\u001b[0m\u001b[1;33m)\u001b[0m\u001b[1;33m\u001b[0m\u001b[1;33m\u001b[0m\u001b[0m\n\u001b[0m\u001b[0;32m   1902\u001b[0m \u001b[1;33m\u001b[0m\u001b[0m\n\u001b[0;32m   1903\u001b[0m             \u001b[1;31m# nested tuple slicing\u001b[0m\u001b[1;33m\u001b[0m\u001b[1;33m\u001b[0m\u001b[1;33m\u001b[0m\u001b[0m\n",
      "\u001b[1;32m~\\Anaconda2\\lib\\site-packages\\pandas\\core\\indexing.py\u001b[0m in \u001b[0;36m_getitem_iterable\u001b[1;34m(self, key, axis)\u001b[0m\n\u001b[0;32m   1161\u001b[0m                     \u001b[0mresult\u001b[0m \u001b[1;33m=\u001b[0m \u001b[0mself\u001b[0m\u001b[1;33m.\u001b[0m\u001b[0mobj\u001b[0m\u001b[1;33m.\u001b[0m\u001b[0m_take\u001b[0m\u001b[1;33m(\u001b[0m\u001b[0mindexer\u001b[0m\u001b[1;33m[\u001b[0m\u001b[0mindexer\u001b[0m \u001b[1;33m!=\u001b[0m \u001b[1;33m-\u001b[0m\u001b[1;36m1\u001b[0m\u001b[1;33m]\u001b[0m\u001b[1;33m,\u001b[0m \u001b[0maxis\u001b[0m\u001b[1;33m=\u001b[0m\u001b[0maxis\u001b[0m\u001b[1;33m)\u001b[0m\u001b[1;33m\u001b[0m\u001b[1;33m\u001b[0m\u001b[0m\n\u001b[0;32m   1162\u001b[0m \u001b[1;33m\u001b[0m\u001b[0m\n\u001b[1;32m-> 1163\u001b[1;33m                     \u001b[0mself\u001b[0m\u001b[1;33m.\u001b[0m\u001b[0m_validate_read_indexer\u001b[0m\u001b[1;33m(\u001b[0m\u001b[0mkey\u001b[0m\u001b[1;33m,\u001b[0m \u001b[0mnew_indexer\u001b[0m\u001b[1;33m,\u001b[0m \u001b[0maxis\u001b[0m\u001b[1;33m)\u001b[0m\u001b[1;33m\u001b[0m\u001b[1;33m\u001b[0m\u001b[0m\n\u001b[0m\u001b[0;32m   1164\u001b[0m                     result = result._reindex_with_indexers(\n\u001b[0;32m   1165\u001b[0m                         \u001b[1;33m{\u001b[0m\u001b[0maxis\u001b[0m\u001b[1;33m:\u001b[0m \u001b[1;33m[\u001b[0m\u001b[0mnew_target\u001b[0m\u001b[1;33m,\u001b[0m \u001b[0mnew_indexer\u001b[0m\u001b[1;33m]\u001b[0m\u001b[1;33m}\u001b[0m\u001b[1;33m,\u001b[0m\u001b[1;33m\u001b[0m\u001b[1;33m\u001b[0m\u001b[0m\n",
      "\u001b[1;32m~\\Anaconda2\\lib\\site-packages\\pandas\\core\\indexing.py\u001b[0m in \u001b[0;36m_validate_read_indexer\u001b[1;34m(self, key, indexer, axis)\u001b[0m\n\u001b[0;32m   1204\u001b[0m                 raise KeyError(\n\u001b[0;32m   1205\u001b[0m                     u\"None of [{key}] are in the [{axis}]\".format(\n\u001b[1;32m-> 1206\u001b[1;33m                         key=key, axis=self.obj._get_axis_name(axis)))\n\u001b[0m\u001b[0;32m   1207\u001b[0m \u001b[1;33m\u001b[0m\u001b[0m\n\u001b[0;32m   1208\u001b[0m             \u001b[1;31m# we skip the warning on Categorical/Interval\u001b[0m\u001b[1;33m\u001b[0m\u001b[1;33m\u001b[0m\u001b[1;33m\u001b[0m\u001b[0m\n",
      "\u001b[1;31mKeyError\u001b[0m: 'None of [0       28.0\\n1       26.0\\n2       28.0\\n3       28.0\\n4       30.5\\n5       32.0\\n6       32.0\\n7       31.0\\n8       32.0\\n9       35.5\\n10      33.0\\n11      30.5\\n12      32.0\\n13      34.0\\n14      32.5\\n15      28.0\\n16      28.0\\n17      32.0\\n18      33.0\\n19      33.0\\n20      33.0\\n21      32.5\\n22      31.5\\n23      30.0\\n24      30.0\\n25      30.0\\n26      32.0\\n27      32.5\\n28      32.0\\n29      30.0\\n        ... \\n5414    41.5\\n5415    42.5\\n5416    41.5\\n5417    39.5\\n5418    32.5\\n5419     NaN\\n5420    39.5\\n5421    42.5\\n5422    40.5\\n5423    38.5\\n5424    38.5\\n5425    39.5\\n5426     NaN\\n5427    41.5\\n5428    41.0\\n5429    42.5\\n5430    41.5\\n5431    42.5\\n5432     NaN\\n5433    41.5\\n5434    37.0\\n5435    36.5\\n5436    35.5\\n5437    34.5\\n5438     NaN\\n5439    35.5\\n5440    37.5\\n5441    38.5\\n5442    38.5\\n5443    37.5\\nName: TMAX, Length: 5444, dtype: float64] are in the [columns]'"
     ]
    }
   ],
   "source": [
    "#Creando lista conteniendo una lista para la TMAX de cada mes.\n",
    "#Es una lista con 12 listas, cada una con 30 elementos\n",
    "TMaxEne=df.loc[df.MES==1][df.TMAX]\n",
    "#print(TMaxEne)\n",
    "\n",
    "#TMaxFeb=df.loc[df.MES==2][df.TMAX]\n",
    "\n",
    "#Creando dataframe para datos de invierno\n",
    "#datos_inv = {'AÑO': AÑOS, 'TMAX ': TMAX, 'TMIN': TMIN}\n",
    "#df_inv = pd.DataFrame(data=datos_inv)\n",
    "#df_inv\n",
    "\n",
    "TMaxMensual=[ TMaxEne ]\n",
    "\n",
    "\n",
    "\n",
    "\n",
    "# Create a figure instance\n",
    "fig = plt.figure(1, figsize=(9, 6))\n",
    "\n",
    "# Create an axes instance\n",
    "ax = fig.add_subplot(111)\n",
    "\n",
    "# Create the boxplot\n",
    "bp = ax.boxplot(TMaxMensual)\n"
   ]
  },
  {
   "cell_type": "code",
   "execution_count": 48,
   "metadata": {},
   "outputs": [],
   "source": [
    "import seaborn as sns"
   ]
  },
  {
   "cell_type": "code",
   "execution_count": 53,
   "metadata": {},
   "outputs": [
    {
     "data": {
      "image/png": "[encoded data removed]",
      "text/plain": [
       "<Figure size 432x288 with 1 Axes>"
      ]
     },
     "metadata": {
      "needs_background": "light"
     },
     "output_type": "display_data"
    }
   ],
   "source": [
    "ax = sns.boxplot(x=\"MES\", y=\"TMAX\", data=df)\n",
    "plt.title(\"Temperatura máxima por mes\")\n",
    "plt.ylabel (\"Temp °C\")\n",
    "plt.savefig('Tmax_mensual',plt=2000)"
   ]
  },
  {
   "cell_type": "code",
   "execution_count": 54,
   "metadata": {},
   "outputs": [
    {
     "data": {
      "image/png": "[encoded data removed]",
      "text/plain": [
       "<Figure size 432x288 with 1 Axes>"
      ]
     },
     "metadata": {
      "needs_background": "light"
     },
     "output_type": "display_data"
    }
   ],
   "source": [
    "ax = sns.boxplot(x=\"MES\", y=\"TMIN\", data=df)\n",
    "plt.title(\"Temperatura mínima por mes\")\n",
    "plt.ylabel (\"Temp °C\")\n",
    "plt.savefig('Tmin_mensual',plt=2000)"
   ]
  },
  {
   "cell_type": "code",
   "execution_count": 55,
   "metadata": {},
   "outputs": [
    {
     "data": {
      "image/png": "[encoded data removed]",
      "text/plain": [
       "<Figure size 432x288 with 1 Axes>"
      ]
     },
     "metadata": {
      "needs_background": "light"
     },
     "output_type": "display_data"
    }
   ],
   "source": [
    "ax = sns.boxplot(x=\"AÑO\", y=\"TMAX\", data=df)\n",
    "plt.xticks(rotation=45)\n",
    "plt.title(\"Temperatura máxima por año\")\n",
    "plt.ylabel (\"Temp °C\")\n",
    "plt.savefig('Tmax_anual',plt=2000)"
   ]
  },
  {
   "cell_type": "code",
   "execution_count": 56,
   "metadata": {},
   "outputs": [
    {
     "data": {
      "image/png": "[encoded data removed]",
      "text/plain": [
       "<Figure size 432x288 with 1 Axes>"
      ]
     },
     "metadata": {
      "needs_background": "light"
     },
     "output_type": "display_data"
    }
   ],
   "source": [
    "ax = sns.boxplot(x=\"AÑO\", y=\"TMIN\", data=df)\n",
    "plt.xticks(rotation=45)\n",
    "plt.title(\"Temperatura mínima por año\")\n",
    "plt.ylabel (\"Temp °C\")\n",
    "plt.savefig('Tmin_anual',plt=2000)"
   ]
  },
  {
   "cell_type": "code",
   "execution_count": null,
   "metadata": {},
   "outputs": [],
   "source": []
  }
 ],
 "metadata": {
  "kernelspec": {
   "display_name": "Python 3",
   "language": "python",
   "name": "python3"
  },
  "language_info": {
   "codemirror_mode": {
    "name": "ipython",
    "version": 3
   },
   "file_extension": ".py",
   "mimetype": "text/x-python",
   "name": "python",
   "nbconvert_exporter": "python",
   "pygments_lexer": "ipython3",
   "version": "3.7.1"
  }
 },
 "nbformat": 4,
 "nbformat_minor": 2
}
